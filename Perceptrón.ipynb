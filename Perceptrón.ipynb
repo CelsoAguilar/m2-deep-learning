{
 "cells": [
  {
   "cell_type": "markdown",
   "metadata": {},
   "source": [
    "# Perceptrón\n",
    "- Es un algoritmo de aprendizaje supervisado para clasificación binaria de tipo linear ya que hace sus predicciones con base en una función lineal de predicción que combina un conjunto de pesos con un vector de características.\n",
    "- Inventado en 1958 en Cornell Aeronautical Laboratory por Frank Rosenblat.\n",
    "\n",
    "##Elementos\n",
    "- _m_ entradas binarias (-1  o 1) y una salida binaria (-1 o 1).\n",
    "- _m_ pesos de conexión wij\n",
    "- Umbral mu\n",
    "\n",
    "![Perceptrón](images/perceptron-arch.png \"Perceptrón\")\n",
    "\n",
    "En el caso de un perceptrón de una sola capa la suma ponderada representa un hiperplano lineal. Todo en un lado del hiperplano es clase 1 (salida = +1) y todo en el otro lado es clase 2 (salida = -1).\n",
    "\n",
    "El perceptón puede calcular cualquier función que sea linealmente separable.\n",
    "\n",
    "La función AND es linealmente separable.\n",
    "\n",
    "|u1|u2|AND|\n",
    "|-|-|-|\n",
    "|-1|-1| -1|\n",
    "|1|-1| -1|\n",
    "|-1|1| -1|\n",
    "|1|1| 1|\n",
    "\n",
    "(Las funciones OR y NOT también son linealmente separables).\n",
    "\n",
    "¿Puede un perceptrón separar las salidas +1 de las salidas -1?\n",
    "\n",
    "![Perceptrón](images/perceptron1.png)\n",
    "\n",
    "1. gosd\n",
    "2. sdf\n",
    "3. sdf \n",
    "\n",
    "## Definiciones\n",
    "- r es la tasa de aprendizaje del perceptrón, con rango entre 0 y 1. Mientras mayor sea el valor, el cambio en los pesos será mayor.\n",
    "- $y = f(z)$ denota la salida del perceptrón de un vector de entrada $z$.\n",
    "- $D = {(x_1, d_1),..., (x_m, d_m) }$ es el conjunto de entrenamiento con $s$ ejemplos donde:\n",
    "    -$xj$ es el vector de entrada de n-dimensiones\n",
    "    \n",
    "    -$dj$ es el valor deseado de la salida del perceptrón para dicha unidad.\n",
    "\n",
    "## Proceso\n",
    "- Inicializar los pesos y el umbral. Los pesos pueden ser inicializados en 0 o un pequeño valor aleatorio.\n",
    "- Por cada instancia del conjunto de datos de entrenamiento $D$, realizar los siguientes pasos sobre la entrada $x_j$ y la salida deseada $d_j$:\n",
    "    - Calcular la salida real\n",
    "    $y_i(t) = f[w(t)*x_j]$\n",
    "    \n",
    "    - Actualizar los pesos\n",
    "    $w_i(t+1) = w_i(t) + r * (d_j - y_j(t))x_{j,i})$ para todas las características $0<=i<=n$, donde $r$ es la tasa de entrenamiento.\n",
    "    - Para entrenamiento fuera de línea, el segundo paso puede repetirse hasta que el error de la iteración $1/s\\sum_{j=1}^s |d_j - y_j(t)|$sea menor que un umbral $\\gamma$ definido por el usuario, o un número predefinido de interaciones se haya completado, donde $s$ es el tamaño del la colección de muestras."
   ]
  }
 ],
 "metadata": {
  "kernelspec": {
   "display_name": "Python 3",
   "language": "python",
   "name": "python3"
  },
  "language_info": {
   "codemirror_mode": {
    "name": "ipython",
    "version": 3
   },
   "file_extension": ".py",
   "mimetype": "text/x-python",
   "name": "python",
   "nbconvert_exporter": "python",
   "pygments_lexer": "ipython3",
   "version": "3.7.6"
  }
 },
 "nbformat": 4,
 "nbformat_minor": 4
}
