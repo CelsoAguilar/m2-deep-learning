{
 "cells": [
  {
   "cell_type": "markdown",
   "metadata": {},
   "source": [
    "# Redes Neuronales\n",
    "Desde una perspectiva de alto nivel, las redes neuronales son codificadores o decodificadores o una combinación de ambos. Los codificadores encuentran patrones en los datos para formar una representación compacta y útil. Los decodificadores generar nuevos datos o información de alta resolución útil a partir de esas representaciones. Desde una perspectiva, Deep Learning descubre formas de representar el mundo para que sea posible razonar de él. \n",
    "\n",
    "Desde la perspectiva de sistemas, las redes neuronales artificiales son un sistema de software que modelan la anatomía y capacidad de procesamiento de información de las neuronas y sinapsis biológicas. \n",
    "\n",
    "## Tipos de redes neuronales\n",
    "1. Feed Forward Neural Networks. Se trata de redes neuronales artificiales en donde las conexiones entre los nodos no forman ciclos. Se emplean para clasificación y regresión basada en características.\n",
    "2. Convolutional Neural Networks. Redes neuronales profundas que generalmente se aplican en procesamiento de imágenes con aplicaciones en reconocimiento de imágenes y video, sistemas de recomendaciones, clasificación de imágenes y procesamiento de lenguaje natural. Se hace uso de la operación lineal conocida como convolución en vez de una multiplicación general de matrices en al menos una de sus capas.\n",
    "3. Recurrent Neural Networks. También conocidas como redes auto asociativas o de retroalimentación, son redes neuronales en donde  las conexiones entre sus unidades forman un ciclo directo. Se emplean en modelado de lenguaje, reconocimiento y generación de lenguaje.\n",
    "4. Encoder Decoder Architecture. Arquitectura para redes neuronales de tipo recurrente que actualmente representan el método estándar para traducción neuronal automatizada. \n",
    "![Encoder-Decoder](images/encoder-decoder.png)\n",
    "5. Autoencoder. Redes neuronales que aprenden codificaciones eficientes de datos de forma no supervisada. Empleados en  reconocimiento facial y determinación del significado de palabras. Se emplean para reducción de dimensiones y para entrenar las redes a ignorar ruido.\n",
    "6. Generative Adversarial Networks. Redes neuronales que compiten entre sí. La red productora crea candidatos, mientras que la red discriminatoria los evalua. El objetivo de la red productora es incrementar la tasa de error de la red discriminatoria. Empleadas para crear fotografías muy realistas de sujetos, incluyendo personas, paisajes y portadas de discos.\n",
    "7. Deep Reinforcement Learning. Emplea los principios de deep learning y reinforcement learning para crear algoritmos eficientes que se apliquen en robótica, video juegos, finanzas y salud. Se aplica en juegos, simulaciones de robótica.\n",
    "\n"
   ]
  }
 ],
 "metadata": {
  "kernelspec": {
   "display_name": "Python 3",
   "language": "python",
   "name": "python3"
  },
  "language_info": {
   "codemirror_mode": {
    "name": "ipython",
    "version": 3
   },
   "file_extension": ".py",
   "mimetype": "text/x-python",
   "name": "python",
   "nbconvert_exporter": "python",
   "pygments_lexer": "ipython3",
   "version": "3.7.4"
  }
 },
 "nbformat": 4,
 "nbformat_minor": 2
}
