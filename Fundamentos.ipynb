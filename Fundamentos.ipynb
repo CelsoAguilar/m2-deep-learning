{
 "cells": [
  {
   "cell_type": "markdown",
   "metadata": {},
   "source": [
    "# Fundamentos Deep Learning\n",
    "![Deep Learning](images/deep-learning-cover3.jpg)\n",
    "Regresión lineal\n",
    "Redes neuronales\n",
    "Perceptrón\n",
    "Fully connected network (multi-layer perceptron)\n",
    "Activation function\n",
    "layer weight (kernel and bias)\n",
    "kernel regulizer and bias regulizer\n",
    "L1 and L2 regularization\n",
    "relu layer\n",
    "linear layer with l1 regularization of factor 0.01 applied to kernel matrix\n",
    "linear layer with l2 regularization of factor 0.01 applied to bias vector\n",
    "A linear layer with a kernel initialized to a random orthogonal matrix\n",
    "A linear layer with a bias vector initialized to 2.0s\n",
    "\n",
    "Model compile\n",
    "optimizer\n",
    "training procedure: Adam, SGD\n",
    "loss functions: mean square error, categorical_crossentropy and binary_crossentropy\n",
    "metrics to monitor training\n",
    "\n",
    "model fit\n",
    "epochs\n",
    "batch size\n",
    "validation_data\n",
    "\n",
    "\n",
    "evaluate\n",
    "\n",
    "predict"
   ]
  },
  {
   "cell_type": "markdown",
   "metadata": {},
   "source": [
    "# Deep Learning\n",
    "- Propósito: Extraer patrones útiles de los datos.\n",
    "- Método: Redes neuronales y optimización.\n",
    "- Herramientas: Python, TensorFlow, entre otras.\n",
    "- Reto: Preguntas correctas y datos\n",
    "- Factores de adopción: Datos, hardware, comuidad, herramientas.\n",
    "- Situación actual: Las grandes preguntas de la inteligencia no han sido respondidas o formuladas adecuadamente.\n",
    "\n",
    "## Progreso\n",
    "- Reconocimiento facial.\n",
    "- Clasificación de imágenes.\n",
    "- Reconocimiento de lenguaje.\n",
    "- Generación de texto a lenguaje.\n",
    "- Transcripción de escritura.\n",
    "- Traducción automática.\n",
    "- Diagnósticos médicos.\n",
    "- Transportación: áreas para conducir, mantener carriles.\n",
    "- Diagnósticos médicos.\n",
    "- Asistentes digitales.\n",
    "- Anuncios, búsqueda, recomendaciones sociales.\n",
    "- Juegos con con reinforcement learning.\n"
   ]
  },
  {
   "cell_type": "markdown",
   "metadata": {},
   "source": [
    "# Hitos en Deep Learning\n",
    "|Año|Hito|\n",
    "|-|-|\n",
    "|1943|Redes neuronales|\n",
    "|1957|Perceptrón|\n",
    "|1974-1986|Backpropagation, redes neuronales recurrentes|\n",
    "|1989-1998|Redes neuronales convolucionales, dataset de imágenes MNIST, redes neuronales recurrentes bidireccionales|\n",
    "|2006|Deep Learning, redes de creencias profundas (DBN)|\n",
    "|2009|ImageNet|\n",
    "|2012|AlexNet, dropout|\n",
    "|2014|Generative Adversarial Networks|\n",
    "|2014|Deep Face|\n",
    "|2016|AlphaGo|\n",
    "|2017|AlphaZero, Capsule Netorks|\n",
    "|2018|BERT|"
   ]
  },
  {
   "cell_type": "markdown",
   "metadata": {},
   "source": [
    "# Proceso de Ciencia de Datos en Deep Learning\n",
    "1. Importar librerías.\n",
    "2. Obtener datos.\n",
    "3. Configurar el modelo.\n",
    "4. Entrenar el modelo.\n",
    "5. Evaluar el modelo.\n",
    "6. Efectuar predicciones.\n",
    "\n",
    "![Proceso de deep learning](images/deep-learning-process.png)\n",
    "\n",
    "![Digit to prediction](images/digit-to-prediction.png)"
   ]
  },
  {
   "cell_type": "markdown",
   "metadata": {},
   "source": [
    "# Tecnología\n",
    "\n",
    "|Elemento|Aportación a deep learning|\n",
    "|-|-|\n",
    "|CPU|Serial, propósito general, amplia disponibilidad|\n",
    "|GPU|Paralelismo, creciente disponibilidad|\n",
    "|TPU|Circuitos integrados de aplicación específica desarrollados por Google, especializados para Machine Learning|"
   ]
  },
  {
   "cell_type": "markdown",
   "metadata": {},
   "source": [
    "# Modelos de Deep Learning\n",
    "- Entradas\n",
    "    - Números\n",
    "    - Vector de números\n",
    "    - Secuencia de números\n",
    "    - Secuencia de vectores de números\n",
    "- Sistema de aprendizaje\n",
    "- Salidas\n",
    "    - Números\n",
    "    - Vector de números\n",
    "    - Secuencia de números\n",
    "    - Secuencia de vectores de números\n"
   ]
  }
 ],
 "metadata": {
  "kernelspec": {
   "display_name": "Python 3",
   "language": "python",
   "name": "python3"
  },
  "language_info": {
   "codemirror_mode": {
    "name": "ipython",
    "version": 3
   },
   "file_extension": ".py",
   "mimetype": "text/x-python",
   "name": "python",
   "nbconvert_exporter": "python",
   "pygments_lexer": "ipython3",
   "version": "3.7.6"
  }
 },
 "nbformat": 4,
 "nbformat_minor": 4
}
