{
 "cells": [
  {
   "cell_type": "markdown",
   "metadata": {},
   "source": [
    "# Fundamentos Deep Learning\n",
    "Regresión lineal\n",
    "Redes neuronales\n",
    "Perceptrón\n",
    "Fully connected network (multi-layer perceptron)\n",
    "Activation function\n",
    "layer weight (kernel and bias)\n",
    "kernel regulizer and bias regulizer\n",
    "L1 and L2 regularization\n",
    "relu layer\n",
    "linear layer with l1 regularization of factor 0.01 applied to kernel matrix\n",
    "linear layer with l2 regularization of factor 0.01 applied to bias vector\n",
    "A linear layer with a kernel initialized to a random orthogonal matrix\n",
    "A linear layer with a bias vector initialized to 2.0s\n",
    "\n",
    "Model compile\n",
    "optimizer\n",
    "training procedure: Adam, SGD\n",
    "loss functions: mean square error, categorical_crossentropy and binary_crossentropy\n",
    "metrics to monitor training\n",
    "\n",
    "model fit\n",
    "epochs\n",
    "batch size\n",
    "validation_data\n",
    "\n",
    "\n",
    "evaluate\n",
    "\n",
    "predict"
   ]
  }
 ],
 "metadata": {
  "kernelspec": {
   "display_name": "Python 3",
   "language": "python",
   "name": "python3"
  },
  "language_info": {
   "codemirror_mode": {
    "name": "ipython",
    "version": 3
   },
   "file_extension": ".py",
   "mimetype": "text/x-python",
   "name": "python",
   "nbconvert_exporter": "python",
   "pygments_lexer": "ipython3",
   "version": "3.7.6"
  }
 },
 "nbformat": 4,
 "nbformat_minor": 4
}
