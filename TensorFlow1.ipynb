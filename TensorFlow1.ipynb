{
 "cells": [
  {
   "cell_type": "markdown",
   "metadata": {},
   "source": [
    "# TensorFlow 1.0"
   ]
  },
  {
   "cell_type": "code",
   "execution_count": null,
   "metadata": {},
   "outputs": [],
   "source": [
    "#TF default\n",
    "#Hello TensorFlow 1.0\n",
    "import tensorflow as tf1\n",
    "\n",
    "msg = tf1.constant('Hello TensorFlow 1.0')\n",
    "sess = tf1.Session()\n",
    "print(sess.run(msg))"
   ]
  },
  {
   "cell_type": "code",
   "execution_count": null,
   "metadata": {},
   "outputs": [],
   "source": [
    "#Corriendo código de TensorFlow 1.0 en ambiente TensorFlow 2.0\n",
    "#Hello TensorFlow 1.0 code from TensorFlow 2.0 environment \n",
    "#Código de TensorFlow 1.0 en ambiente TensorFlow 2.0 con modo de compatibilidad v1\n",
    "import tensorflow.compat.v1 as tf1\n",
    "tf1.disable_v2_behavior()\n",
    "\n",
    "msg = tf1.constant('Hello TensorFlow 1.0 with compatibility')\n",
    "sess = tf1.Session()\n",
    "print(sess.run(msg))"
   ]
  },
  {
   "cell_type": "markdown",
   "metadata": {},
   "source": [
    "## Uso de grafos computacionales en TensorFlow 1.0\n",
    "Las funciones de la librería de TensorFlow permiten definir el grafo de cómputo con el objeto _tf.Graph_.\n",
    "\n",
    "El entorno de ejecución procesa el cómputo especificado en el grafo por medio del objeto _tf.Session_.\n",
    "\n",
    "_Eager execution_ es soportada en TensorFlow 1.0 por medio de la función de configuración\n",
    "\n",
    "`import tensorflow as tf\n",
    "tf.enable_eager_execution()`\n",
    "\n",
    "Sin especificación explícita, todas las operaciones (nodos) se añaden a la instancia global _tf.Graph_.\n",
    "\n",
    "Los grafos son estables y eficientes en desempeño, sin embargo su naturaleza no imperativa imponen una carga adicional en los desarrolladores."
   ]
  },
  {
   "cell_type": "code",
   "execution_count": 18,
   "metadata": {},
   "outputs": [
    {
     "name": "stdout",
     "output_type": "stream",
     "text": [
      "3.0\n"
     ]
    }
   ],
   "source": [
    "#TF 1.0\n",
    "import tensorflow.compat.v1 as tf1\n",
    "tf1.disable_v2_behavior()\n",
    "\n",
    "a = tf1.constant(1.0)\n",
    "b = tf1.constant(2.0)\n",
    "c = tf1.add(a,b) #la operación añade un nodo al la instancia global tf.Graph\n",
    "with tf1.Session()as sess:\n",
    "    print(sess.run(c))"
   ]
  },
  {
   "cell_type": "markdown",
   "metadata": {},
   "source": [
    "Para el caso de TensorFlow 1.0 se recomienda el uso explícito de _tf.Graph_ tal como se muestra a continuación:"
   ]
  },
  {
   "cell_type": "code",
   "execution_count": 19,
   "metadata": {},
   "outputs": [
    {
     "name": "stdout",
     "output_type": "stream",
     "text": [
      "2.0\n"
     ]
    }
   ],
   "source": [
    "#TF 1.0\n",
    "#import tensorflow.compat.v1 as tf1\n",
    "#tf1.disable_v2_behavior()\n",
    "\n",
    "g1 = tf1.Graph()\n",
    "\n",
    "with g1.as_default() as g:\n",
    "    a = tf1.constant(1.0)\n",
    "    b = tf1.constant(1.0)\n",
    "    c = tf1.add(a,b)\n",
    "\n",
    "with tf1.Session(graph = g1) as sess:\n",
    "    print(sess.run(c))"
   ]
  },
  {
   "cell_type": "markdown",
   "metadata": {},
   "source": [
    "El siguiente código ilustra el comportamiento de TensorFlow 1.0 por omisión, es decir sin la activación de _eager execution_"
   ]
  },
  {
   "cell_type": "code",
   "execution_count": 20,
   "metadata": {},
   "outputs": [
    {
     "name": "stdout",
     "output_type": "stream",
     "text": [
      "Tensor(\"Const_17:0\", shape=(2, 2), dtype=int32)\n"
     ]
    }
   ],
   "source": [
    "#TF 1.0\n",
    "import tensorflow.compat.v1 as tf1\n",
    "tf1.disable_v2_behavior()\n",
    "\n",
    "a = tf1.constant([[1,2],[3,4]])\n",
    "print(a)"
   ]
  },
  {
   "cell_type": "markdown",
   "metadata": {},
   "source": [
    "## Práctica: tf.Session\n",
    "Encapsula el código de arriba en un objeto tf.Session() para que pueda visualizarse el valor de a."
   ]
  },
  {
   "cell_type": "code",
   "execution_count": null,
   "metadata": {},
   "outputs": [],
   "source": []
  },
  {
   "cell_type": "markdown",
   "metadata": {},
   "source": [
    "## Inyección de datos con _placeholder_\n",
    "Los _placeholders_ nos permiten ingresar datos en el grafo en tiempo de ejecución. "
   ]
  },
  {
   "cell_type": "code",
   "execution_count": 21,
   "metadata": {},
   "outputs": [
    {
     "name": "stdout",
     "output_type": "stream",
     "text": [
      "2.0\n",
      "3.0\n"
     ]
    }
   ],
   "source": [
    "#TF 1.0\n",
    "#import tensorflow.compat.v1 as tf1\n",
    "#tf1.disable_v2_behavior()\n",
    "\n",
    "a = tf1.placeholder(tf1.float32, [])\n",
    "b = tf1.constant(1.0)\n",
    "c = tf1.add(a,b)\n",
    "\n",
    "with tf1.Session() as session:\n",
    "    print(session.run(c, feed_dict={a:1.0}))\n",
    "    print(session.run(c, feed_dict={a:2.0}))"
   ]
  },
  {
   "cell_type": "markdown",
   "metadata": {},
   "source": [
    "Los placeholders pueden emplearse para inyectar datos en el grafo en tiempo de ejecución. Los placeholders se usan en el grafo como tensores pero en cada ejecución del grafo tomarán los valores que se especifiquen en el diccionario feed_dic provisto a _session.run_."
   ]
  },
  {
   "cell_type": "markdown",
   "metadata": {},
   "source": [
    "## Control de dependencias en TensorFlow 1.0\n",
    "Los desarrolladores familiarizados con Python encuentran diferencias en el paradigma computacional de TensorFlow 1.0 debido a que en él se requiere del objeto _tf.Session_ para la ejecución del grafo computacional, la declaración explícita de dependencias de variables y la falta de estatutos de control como `if`, `while` y `for`.\n",
    "\n",
    "Considerando el siguiente bloque de código, ¿cuál es el valor esperado del estatuto print: 11 o 3?"
   ]
  },
  {
   "cell_type": "code",
   "execution_count": 22,
   "metadata": {},
   "outputs": [
    {
     "name": "stdout",
     "output_type": "stream",
     "text": [
      "3.0\n"
     ]
    }
   ],
   "source": [
    "#TF 1.0\n",
    "#import tensorflow.compat.v1 as tf1\n",
    "#tf1.disable_v2_behavior()\n",
    "\n",
    "a = tf1.constant(1.0)\n",
    "b = tf1.Variable(2.0)\n",
    "assign_b = tf1.assign(b,10)\n",
    "c = tf1.add(a,b)\n",
    "with tf1.Session() as sess:\n",
    "    sess.run(tf1.global_variables_initializer())\n",
    "    print(sess.run(c))"
   ]
  },
  {
   "cell_type": "markdown",
   "metadata": {},
   "source": [
    "El valor no fue 11 debido a que hubo una dependencia implícita entre las operaciones __b__ y __assign_b__.\n",
    "\n",
    "Para declarar dependencias explícitas es necesario reescribir el código como sigue:"
   ]
  },
  {
   "cell_type": "code",
   "execution_count": 25,
   "metadata": {},
   "outputs": [
    {
     "name": "stdout",
     "output_type": "stream",
     "text": [
      "33.0\n"
     ]
    }
   ],
   "source": [
    "#TF 1.0\n",
    "#import tensorflow.compat.v1 as tf1\n",
    "#tf1.disable_v2_behavior()\n",
    "\n",
    "a = tf1.constant(1.0)\n",
    "b = tf1.Variable(2.0)\n",
    "assign_b = tf1.assign(b,10)\n",
    "with tf1.control_dependencies([assign_b]):\n",
    "    c = tf1.add(b,c)\n",
    "    \n",
    "with tf1.Session() as sess:\n",
    "    sess.run(tf1.global_variables_initializer())\n",
    "    print(sess.run(c))"
   ]
  }
 ],
 "metadata": {
  "kernelspec": {
   "display_name": "Python 3",
   "language": "python",
   "name": "python3"
  },
  "language_info": {
   "codemirror_mode": {
    "name": "ipython",
    "version": 3
   },
   "file_extension": ".py",
   "mimetype": "text/x-python",
   "name": "python",
   "nbconvert_exporter": "python",
   "pygments_lexer": "ipython3",
   "version": "3.7.6"
  }
 },
 "nbformat": 4,
 "nbformat_minor": 4
}
