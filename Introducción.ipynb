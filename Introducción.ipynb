{
 "cells": [
  {
   "cell_type": "markdown",
   "metadata": {},
   "source": [
    "# Plataformas Deep Learning"
   ]
  },
  {
   "cell_type": "markdown",
   "metadata": {},
   "source": [
    "## Temario\n",
    "- Introducción a Deep Learning\n",
    "- Herramientas para Deep Learning\n",
    "    - TensorFlow\n",
    "    - Keras\n",
    "- Perceptrón\n",
    "- Redes Neuronales\n"
   ]
  },
  {
   "cell_type": "markdown",
   "metadata": {},
   "source": [
    "## Log de instalación\n",
    "- Anaconda 2019.10 for Windows Installer with Python 3.7 version, 64 bit graphical installer, [https://www.anaconda.com/distribution/#download-section](https://www.anaconda.com/distribution/#download-section)\n",
    "<img src=\"images/anaconda-setup.png\" alt=\"Anaconda Setup\" title=\"Anaconda Setup\"/>\n",
    "\n",
    "    - Actualizar Anaconda por medio del siguiente comando en un prompt de Anaconda\n",
    "    \n",
    "    `conda update -n base -c defaults conda`\n",
    "- NLTK\n",
    "    - NLTK Data\n",
    " - TensorFlow\n",
    " - GitHub Desktop\n",
    " "
   ]
  },
  {
   "cell_type": "markdown",
   "metadata": {},
   "source": [
    "# Base de conocimiento\n",
    "## Anaconda\n",
    "[Guía de inicio](https://conda.io/projects/conda/en/latest/user-guide/getting-started.html)\n",
    "\n",
    "[Conda Cheat Sheet](https://docs.conda.io/projects/conda/en/4.6.0/_downloads/52a95608c49671267e40c689e0bc00ca/conda-cheatsheet.pdf)\n",
    "\n",
    "[Using Pip to install packages to Anaconda Environment](https://stackoverflow.com/questions/41060382/using-pip-to-install-packages-to-anaconda-environment)\n",
    "## Jupyter\n",
    "[Markdown for Jupyter cheat sheet](https://medium.com/ibm-data-science-experience/markdown-for-jupyter-notebooks-cheatsheet-386c05aeebed)"
   ]
  },
  {
   "cell_type": "markdown",
   "metadata": {},
   "source": [
    "## Ambiente Anaconda tf\n",
    "### Crear el ambiente tf\n",
    "Crear el ambiente desde un prompt de Anaconda:\n",
    "`conda create -n tf tensorflow`\n",
    "(tomar nota de la ubicación en el sistema de archivos del ambiente)\n",
    "\n",
    "Activar el ambiente\n",
    "`conda activate tf`\n",
    "\n",
    "Desactivar el ambiente\n",
    "`conda deactivate`\n",
    "\n",
    "Ejecutar el intérprete de Python y verificar la versión\n",
    "`python`\n",
    "<img src=\"images/Python%20version.png\" alt=\"Python version\" title=\"Python version\"/>\n",
    "\n",
    "### Instalar paquetes de Python\n",
    "Instalar los siguientes paquetes de Python por medio de un prompt de Anaconda y el comando conda install:\n",
    "\n",
    "`conda install --name tf {package name}`\n",
    "- matplotlib\n",
    "- pandas\n",
    "- seaborn\n",
    "\n",
    "Para el caso de la librería cv2 referida en algunos ejemplos de código es necesario instalar opencv\n",
    "`conda install -c conda-forge opencv`\n",
    "\n",
    "### Instalar Spyder\n",
    "Instalar Spyder desde Anaconda Navigator\n",
    "<img src=\"images/Spyder%20en%20tf.png\" alt=\"Spyder en tf\" title=\"Spyder en tf\"/>\n",
    "\n",
    "### Recursos del ambiente tf\n",
    "\n",
    "La ubicación del ambiente se reporta en la sección ## Package Plan ## generada por la salida de conda create, p.e.\n",
    "\n",
    "` ## Package Plan ##`\n",
    "\n",
    "`environment location: C:\\Users\\Marciano\\.conda\\envs\\tf`\n",
    "\n",
    "\n"
   ]
  },
  {
   "cell_type": "markdown",
   "metadata": {},
   "source": [
    "# TensorFlow\n",
    "## Introducción\n",
    "TensorFlow es una plataforma integral de Machine Learning de código abierto. Cuenta con un ecosistema amplio y flexible de herramientas, librerías y comunidad que permite a los investigadores avanzar el estado del arte en ML. Habilita a los desarrolladores para crear y desplegar fácilmente aplicaciones habilitadas con ML.\n",
    "\n",
    "[tensorflow.org](https://tensorflow.org) es el sitio principal del proyecto.\n",
    "\n",
    "## Componentes del marco de trabajo\n",
    "TensorFlow tiene dos componentes:\n",
    "- Librería: para definir grafos computacionales.\n",
    "- Tiempo de ejecución: para ejecutar grafos en una diversas plataformas de hardware.\n",
    "\n",
    "[Arquitectura de TensorFlow](https://github.com/tensorflow/docs/blob/master/site/en/r1/guide/extend/architecture.md)\n",
    "\n",
    "### Grafos computacionales\n",
    "Los grafos computacionales son la representación de algoritmos de Machine Learning en TensorFlow, son un tipo de grafo dirigido en donde los nodos describen operaciones y los enlaces representan los datos (tensores) que fluyen entre las operaciones.\n",
    "\n",
    "Los grafos constan de:\n",
    "- Tensores: Descripción de un arreglo multidimensional. Tienen cardinalidad y un tipo de dato, pero no valores.\n",
    "- Operaciones: Tienen cero o más entradas y producen cero o más salidas. Pueden representar ecuaciones matemáticas, variables, constantes o directivas de control de flujo.\n",
    "- Variables: Todos los parámetros sujetos a entrenamiento de Machine Learning son _tf.Variables_. Una variable se define por su nombre, tipo, forma y procedimiento de inicialización. \n",
    "\n",
    "### Ventajas de los grafos computacionales\n",
    "- Calendarización conducida por dependencias. Las dependencias de datos dictan el orden de ejecución. Las operaciones que no dependen entre sí pueden calendarizarse para ejecución en paralelo.\n",
    "- Optimización de grafos. Tales como eliminación de grafos comunes.\n",
    "- Diferenciación automática. Facilita el cálculo de gradientes. Cuando se conocen los gradientes de la salida de cada operación con respecto a sus entradas directas, la regla de la cadena nos provee de gradientes para cualquier tensor con respecto a cualquier otro. Este proceso se conoce como autodiferenciación en modo inverso, y habilita el cómputo del gradiente de un nodo en el grafo con respecto a todos los demás en una sola pasada.\n",
    "\n",
    "## Tensores\n",
    "El cómputo en TensorFlow se expresa como un grafo de flujo de datos con estado. El nombre TensorFlow driva de las operaciones que las redes neuronales emplean en arreglos de datos multidimensionales, que se refieren como tensores.\n",
    "\n",
    "## Versiones de TensorFlow\n",
    "- 1.0.0 liberada en febrero de 2017\n",
    "- 2.0.0 disponible en septiembre de 2019\n",
    "\n"
   ]
  },
  {
   "cell_type": "markdown",
   "metadata": {},
   "source": [
    "# TensorFlow 1.0"
   ]
  },
  {
   "cell_type": "code",
   "execution_count": 1,
   "metadata": {},
   "outputs": [
    {
     "ename": "AttributeError",
     "evalue": "module 'tensorflow' has no attribute 'Session'",
     "output_type": "error",
     "traceback": [
      "\u001b[1;31m---------------------------------------------------------------------------\u001b[0m",
      "\u001b[1;31mAttributeError\u001b[0m                            Traceback (most recent call last)",
      "\u001b[1;32m<ipython-input-1-5e01e91eec82>\u001b[0m in \u001b[0;36m<module>\u001b[1;34m\u001b[0m\n\u001b[0;32m      2\u001b[0m \u001b[1;32mimport\u001b[0m \u001b[0mtensorflow\u001b[0m \u001b[1;32mas\u001b[0m \u001b[0mtf\u001b[0m\u001b[1;33m\u001b[0m\u001b[1;33m\u001b[0m\u001b[0m\n\u001b[0;32m      3\u001b[0m \u001b[0mmsg\u001b[0m \u001b[1;33m=\u001b[0m \u001b[0mtf\u001b[0m\u001b[1;33m.\u001b[0m\u001b[0mconstant\u001b[0m\u001b[1;33m(\u001b[0m\u001b[1;34m'Hello TensorFlow 1.0'\u001b[0m\u001b[1;33m)\u001b[0m\u001b[1;33m\u001b[0m\u001b[1;33m\u001b[0m\u001b[0m\n\u001b[1;32m----> 4\u001b[1;33m \u001b[0msess\u001b[0m \u001b[1;33m=\u001b[0m \u001b[0mtf\u001b[0m\u001b[1;33m.\u001b[0m\u001b[0mSession\u001b[0m\u001b[1;33m(\u001b[0m\u001b[1;33m)\u001b[0m\u001b[1;33m\u001b[0m\u001b[1;33m\u001b[0m\u001b[0m\n\u001b[0m\u001b[0;32m      5\u001b[0m \u001b[0mprint\u001b[0m\u001b[1;33m(\u001b[0m\u001b[0msess\u001b[0m\u001b[1;33m.\u001b[0m\u001b[0mrun\u001b[0m\u001b[1;33m(\u001b[0m\u001b[0mmsg\u001b[0m\u001b[1;33m)\u001b[0m\u001b[1;33m)\u001b[0m\u001b[1;33m\u001b[0m\u001b[1;33m\u001b[0m\u001b[0m\n",
      "\u001b[1;31mAttributeError\u001b[0m: module 'tensorflow' has no attribute 'Session'"
     ]
    }
   ],
   "source": [
    "#TF default\n",
    "#Hello TensorFlow 1.0\n",
    "import tensorflow as tf\n",
    "\n",
    "msg = tf.constant('Hello TensorFlow 1.0')\n",
    "sess = tf.Session()\n",
    "print(sess.run(msg))"
   ]
  },
  {
   "cell_type": "code",
   "execution_count": 2,
   "metadata": {},
   "outputs": [
    {
     "name": "stdout",
     "output_type": "stream",
     "text": [
      "WARNING:tensorflow:From C:\\Users\\Marciano\\.conda\\envs\\tf\\lib\\site-packages\\tensorflow_core\\python\\compat\\v2_compat.py:65: disable_resource_variables (from tensorflow.python.ops.variable_scope) is deprecated and will be removed in a future version.\n",
      "Instructions for updating:\n",
      "non-resource variables are not supported in the long term\n",
      "b'Hello TensorFlow 1.0 with compatibility'\n"
     ]
    }
   ],
   "source": [
    "#Corriendo código de TensorFlow 1.0 en ambiente TensorFlow 2.0\n",
    "#Hello TensorFlow 1.0 code from TensorFlow 2.0 environment \n",
    "#Código de TensorFlow 1.0 en ambiente TensorFlow 2.0 con modo de compatibilidad v1\n",
    "import tensorflow.compat.v1 as tf1\n",
    "tf1.disable_v2_behavior()\n",
    "\n",
    "msg = tf1.constant('Hello TensorFlow 1.0 with compatibility')\n",
    "sess = tf1.Session()\n",
    "print(sess.run(msg))"
   ]
  },
  {
   "cell_type": "markdown",
   "metadata": {},
   "source": [
    "## Uso de grafos computacionales en TensorFlow 1.0\n",
    "Las funciones de la librería de TensorFlow permiten definir el grafo de cómputo con el objeto _tf.Graph_.\n",
    "\n",
    "El entorno de ejecución procesa el cómputo especificado en el grafo por medio del objeto _tf.Session_.\n",
    "\n",
    "_Eager execution_ es soportada en TensorFlow 1.0 por medio de la función de configuración\n",
    "\n",
    "`import tensorflow as tf\n",
    "tf.enable_eager_execution()`\n",
    "\n",
    "Sin especificación explícita, todas las operaciones (nodos) se añaden a la instancia global _tf.Graph_.\n",
    "\n",
    "Los grafos son estables y eficientes en desempeño, sin embargo su naturaleza no imperativa imponen una carga adicional en los desarrolladores."
   ]
  },
  {
   "cell_type": "code",
   "execution_count": 2,
   "metadata": {},
   "outputs": [
    {
     "name": "stdout",
     "output_type": "stream",
     "text": [
      "3.0\n"
     ]
    }
   ],
   "source": [
    "#TF 1.0\n",
    "import tensorflow.compat.v1 as tf1\n",
    "tf1.disable_v2_behavior()\n",
    "\n",
    "a = tf1.constant(1.0)\n",
    "b = tf1.constant(2.0)\n",
    "c = tf1.add(a,b) #la operación añade un nodo al la instancia global tf.Graph\n",
    "with tf1.Session()as sess:\n",
    "    print(sess.run(c))"
   ]
  },
  {
   "cell_type": "markdown",
   "metadata": {},
   "source": [
    "Para el caso de TensorFlow 1.0 se recomienda el uso explícito de _tf.Graph_ tal como se muestra a continuación:"
   ]
  },
  {
   "cell_type": "code",
   "execution_count": 6,
   "metadata": {},
   "outputs": [
    {
     "name": "stdout",
     "output_type": "stream",
     "text": [
      "2.0\n"
     ]
    }
   ],
   "source": [
    "#TF 1.0\n",
    "import tensorflow.compat.v1 as tf1\n",
    "tf1.disable_v2_behavior()\n",
    "\n",
    "g1 = tf1.Graph()\n",
    "\n",
    "with g1.as_default() as g:\n",
    "    a = tf1.constant(1.0)\n",
    "    b = tf1.constant(1.0)\n",
    "    c = tf1.add(a,b)\n",
    "\n",
    "with tf1.Session(graph = g1) as sess:\n",
    "    print(sess.run(c))"
   ]
  },
  {
   "cell_type": "markdown",
   "metadata": {},
   "source": [
    "El siguiente código ilustra el comportamiento de TensorFlow 1.0 por omisión, es decir sin la activación de _eager execution_"
   ]
  },
  {
   "cell_type": "code",
   "execution_count": 2,
   "metadata": {},
   "outputs": [
    {
     "name": "stdout",
     "output_type": "stream",
     "text": [
      "Tensor(\"Const:0\", shape=(2, 2), dtype=int32)\n"
     ]
    }
   ],
   "source": [
    "#TF 1.0\n",
    "import tensorflow.compat.v1 as tf1\n",
    "tf1.disable_v2_behavior()\n",
    "\n",
    "a = tf1.constant([[1,2],[3,4]])\n",
    "print(a)"
   ]
  },
  {
   "cell_type": "markdown",
   "metadata": {},
   "source": [
    "## Práctica: tf.Session\n",
    "Encapsula el código de arriba en un objeto tf.Session() para que pueda visualizarse el valor de a."
   ]
  },
  {
   "cell_type": "code",
   "execution_count": null,
   "metadata": {},
   "outputs": [],
   "source": []
  },
  {
   "cell_type": "markdown",
   "metadata": {},
   "source": [
    "## Inyección de datos con _placeholder_\n",
    "Los _placeholders_ nos permiten ingresar datos en el grafo en tiempo de ejecución. "
   ]
  },
  {
   "cell_type": "code",
   "execution_count": 2,
   "metadata": {},
   "outputs": [
    {
     "name": "stdout",
     "output_type": "stream",
     "text": [
      "2.0\n",
      "3.0\n"
     ]
    }
   ],
   "source": [
    "#TF 1.0\n",
    "import tensorflow.compat.v1 as tf1\n",
    "tf1.disable_v2_behavior()\n",
    "\n",
    "a = tf1.placeholder(tf1.float32, [])\n",
    "b = tf1.constant(1.0)\n",
    "c = tf1.add(a,b)\n",
    "\n",
    "with tf1.Session() as session:\n",
    "    print(session.run(c, feed_dict={a:1.0}))\n",
    "    print(session.run(c, feed_dict={a:2.0}))"
   ]
  },
  {
   "cell_type": "markdown",
   "metadata": {},
   "source": [
    "Los placeholders pueden emplearse para inyectar datos en el grafo en tiempo de ejecución. Los placeholders se usan en el grafo como tensores pero en cada ejecución del grafo tomarán los valores que se especifiquen en el diccionario feed_dic provisto a _session.run_."
   ]
  },
  {
   "cell_type": "markdown",
   "metadata": {},
   "source": [
    "## Control de dependencias en TensorFlow 1.0\n",
    "Los desarrolladores familiarizados con Python encuentran diferencias en el paradigma computacional de TensorFlow 1.0 debido a que en él se requiere del objeto _tf.Session_ para la ejecución del grafo computacional, la declaración explícita de dependencias de variables y la falta de estatutos de control como `if`, `while` y `for`.\n",
    "\n",
    "Considerando el siguiente bloque de código, ¿cuál es el valor esperado del estatuto print: 11 o 3?"
   ]
  },
  {
   "cell_type": "code",
   "execution_count": 1,
   "metadata": {},
   "outputs": [
    {
     "name": "stdout",
     "output_type": "stream",
     "text": [
      "WARNING:tensorflow:From C:\\Users\\Marciano\\.conda\\envs\\tf\\lib\\site-packages\\tensorflow_core\\python\\compat\\v2_compat.py:65: disable_resource_variables (from tensorflow.python.ops.variable_scope) is deprecated and will be removed in a future version.\n",
      "Instructions for updating:\n",
      "non-resource variables are not supported in the long term\n",
      "3.0\n"
     ]
    }
   ],
   "source": [
    "#TF 1.0\n",
    "import tensorflow.compat.v1 as tf1\n",
    "tf1.disable_v2_behavior()\n",
    "\n",
    "a = tf1.constant(1.0)\n",
    "b = tf1.Variable(2.0)\n",
    "assign_b = tf1.assign(b,10)\n",
    "c = tf1.add(a,b)\n",
    "with tf1.Session() as sess:\n",
    "    sess.run(tf1.global_variables_initializer())\n",
    "    print(sess.run(c))"
   ]
  },
  {
   "cell_type": "markdown",
   "metadata": {},
   "source": [
    "El valor no fue 11 debido a que hubo una dependencia implícita entre las operaciones __b__ y __assign_b__.\n",
    "\n",
    "Para declarar dependencias explícitas es necesario reescribir el código como sigue:"
   ]
  },
  {
   "cell_type": "code",
   "execution_count": 3,
   "metadata": {},
   "outputs": [
    {
     "name": "stdout",
     "output_type": "stream",
     "text": [
      "23.0\n"
     ]
    }
   ],
   "source": [
    "#TF 1.0\n",
    "import tensorflow.compat.v1 as tf1\n",
    "tf1.disable_v2_behavior()\n",
    "\n",
    "a = tf1.constant(1.0)\n",
    "b = tf1.Variable(2.0)\n",
    "assign_b = tf1.assign(b,10)\n",
    "with tf1.control_dependencies([assign_b]):\n",
    "    c = tf1.add(b,c)\n",
    "    \n",
    "with tf1.Session() as sess:\n",
    "    sess.run(tf1.global_variables_initializer())\n",
    "    print(sess.run(c))"
   ]
  },
  {
   "cell_type": "markdown",
   "metadata": {},
   "source": [
    "## Actualización de código de TensorFlow 1.0 a 2.0\n",
    "El artículo [Migrate your TensorFlow 1 code to TensorFlow 1](https://www.tensorflow.org/guide/migrate) describe las siguientes estrategias:\n",
    "- Importar tensorflow en modo de compatibilidad con 1.0\n",
    "    - Implica no tomar ventaja de las diversas mejoras en TensorFlow 2.0\n",
    "- Ejecutar el script de actualización TF1.0 a TF2.0\n",
    "- Actualizar el código manualmente de acuerdo con los lineamientos del documento, que permiten contar con código más simple, con mejor desempeño y más fácil de mantener\n",
    "\n",
    "### Script de actualización de TensorFlow 1.0 a TensorFlow 2.0\n",
    "[Enlace a la documentación del script](https://www.tensorflow.org/guide/upgrade)\n",
    "\n",
    "El script se instala por default con TensorFlow 2.0 en la siguiente ruta: `[TF_ENVIRONMENT_PATH]\\Lib\\site-packages\\tensorflow_core\\tools\\compatibility`\n",
    "\n",
    "tf_upgrade_v2_main.py es el punto de entrada del script, su documentación se accede por medio de `python tf_upgrade_v2_main.py -h` \n"
   ]
  },
  {
   "cell_type": "markdown",
   "metadata": {},
   "source": [
    "# TensorFlow 2.0\n",
    "TensorFlow 2.0 representa una evolución de una librería de software para deep learning a un ecosistema para todo tipo de machine learning.\n",
    "\n",
    "Enfocado en simplicidad, facilidad de uso y nuevas capacidades:\n",
    "- Construcción sencilla de modelos por medio de Keras y _eager execution_.\n",
    "- Despliegue robusto de modelos en producción en cualquier plataforma.\n",
    "- Poderosa experimentación para investigadores.\n",
    "- APIs simplificadas al eliminar APIs deprecadas y reducir duplicidad.\n",
    "\n",
    "En TensorFlow 2.0 se han empaquetado diversos componentes desarrollados durante el ciclo de vida de TensorFlow 1.0 para proveer de una plataforma que soporte flujos de Machine Learning desde entrenamiento hasta despliegue.\n",
    "<img src=\"images/tf2-architecture.png\" alt=\"TensorFlow 2.0 Architecture\" title=\"TensorFlow 2.0 Architecture\"/>\n",
    "Tensorflow.js soporta modelos de entrenamiento, enlaces con otros lenguajes con diversos niveles de soporte incluyendo Swift, R y Julia.\n",
    "## Desarrollo fácil de modelos\n",
    "En TensorFlow 2.0 Keras, un API estándar de machine learning amigable para los usuarios, será el API central de alto nivel para desarrollar y entrenar modelos. El API de Keras facilita iniciar con TensorFlow. Keras provee de diversos APIs de construcción de modelos (Sequential, Functional y Subclassing), que permiten elegir en nivel adecuado de abstracción para cada proyeto. La implementación de TensorFlow incluye mejoras tales como _eager execution_ para iteración inmediata, depuración intuitiva y tf.data para construir ductos de entrada de datos escalables.\n",
    "\n",
    "Flujo de referencia:\n",
    "1. Cargar datos por medio de tf.data. Los datos de entrenamiento se leen empleando ductos de entrada que son creados empleando `tf.data`. Las características de los features, por ejemplo bucketing y feature crosses se describen empleando `tf.feature_column`. También se soporta la carga de datos que estén en memoria (por ejemplo NumPy).\n",
    "2. Construir, entrenar y validar el modelo con tf.keras o emplear Premade Estimators. Keras se integra fuertemente con el resto de TensorFlow, por lo que es es posible acceder a las características de TensorFlow cuando sea requerido. Se cuenta con un conjunto de modelos estándar empaquetados (por ejemplo regresión lineal y logística, gradient boosted trees, árboles aleatorios) para emplearse directamente (implementados con el API `tf.estimator`). TensorFlow Hub provee de módulos para entrenar un modelo Keras o Estimator para quienes no estén buscando entrenar un modelo desde cero.\n",
    "3. Ejecutar y depurar con _eager execution_ y posteriormente emplear tf.function para contar con los beneficios de los grafos. TensorFlow 2.0 corre con con _eager execution_ por default para facilidad de uso y depuración. La anotación `tf_function` traduce de forma transparente los programas de Python a grafos de TensorFlow. Este proceso retiene todas las ventajas de la ejecución basada en grafos de TensorFlow: optimizaciones de desempeño, ejecución remota y la capacidad de serializar, exportar y desplegar fácilmente, añadiendo la flexibilidad y facilidad de uso de expresar programas en Python.\n",
    "4. Entrenamiento distribuido por medio de Distribution Strategies. Para tareas de entrenamiento de machine learning grandes, el API Distribution Strategy facilita distribuir y entrenar modelos en diversas configuraciones de hardware sin cambiar las definiciones del modelo. Debido a que TensorFlow provee soporte para un rango de aceleradores de hardware com CPUs, GPUs y TPUs, es posible habilitar tareas de entrenamiento para ser distribuidas en un solo nodo con multi aceleradores así como múltiples nodos con multi aceleradores, incluyendo TPU pods. A pesar que este API soporta una variedad de configuraciones de cluster, se proveen de plantillas para desplegar entrenamiento en clusters de Kubernetes en ambientes on premise o en la nube.\n",
    "5. Exportar a SavedModel. TensorFlow estandariza en SavedModel como un formato de intercambio para TensorFlow Serving, TensorFlow Lite, TensorFlow.js TensorFlow Hub y más.\n",
    "\n",
    "\n",
    "\n"
   ]
  },
  {
   "cell_type": "markdown",
   "metadata": {},
   "source": [
    "## Eager Execution\n",
    "En TensorFlow 2.0 _eager execution_ se encuentra habilitada por omisión. Se trata de una plataforma de machine learning flexible para investigación y experimentación que provee:\n",
    "\n",
    "Una interfaz intuitiva - El código se estructura de forma natural y emplea estructuras de datos de Python.\n",
    "\n",
    "Facilita la depuración - Permite invocar operaciones directamente para inspeccionar modelos en ejecución y probar cambios.\n",
    "\n",
    "Control de flujo natural - Es posible emplear estatutos de control de flujo de Python en vez de flujo de control de grafos."
   ]
  },
  {
   "cell_type": "code",
   "execution_count": 3,
   "metadata": {},
   "outputs": [
    {
     "data": {
      "text/plain": [
       "<tf.Tensor: id=19, shape=(), dtype=float32, numpy=330.0>"
      ]
     },
     "execution_count": 3,
     "metadata": {},
     "output_type": "execute_result"
    }
   ],
   "source": [
    "import tensorflow as tf\n",
    "import numpy as np\n",
    "import matplotlib.pyplot as plt\n",
    "\n",
    "class Model:\n",
    "    def __init__(self):\n",
    "        self.W = tf.Variable(16.0)\n",
    "        self.b = tf.Variable(10.0)\n",
    "\n",
    "    def __call__(self, x):\n",
    "        return self.W * x + self.b\n",
    "    \n",
    "model = Model()\n",
    "model(20)\n",
    "\n"
   ]
  },
  {
   "cell_type": "code",
   "execution_count": 9,
   "metadata": {},
   "outputs": [],
   "source": [
    "TRUE_W = 3.0 # slope\n",
    "TRUE_b = 0.5 # intercept\n",
    "\n",
    "NUM_EXAMPLES = 1000\n",
    "\n",
    "X = tf.random.normal(shape=(NUM_EXAMPLES,))\n",
    "noise = tf.random.normal(shape=(NUM_EXAMPLES,))\n",
    "y = X * TRUE_W + TRUE_b + noise"
   ]
  },
  {
   "cell_type": "code",
   "execution_count": 10,
   "metadata": {},
   "outputs": [
    {
     "data": {
      "text/plain": [
       "<matplotlib.legend.Legend at 0x1f2ab09d548>"
      ]
     },
     "execution_count": 10,
     "metadata": {},
     "output_type": "execute_result"
    },
    {
     "data": {
      "image/png": "[encoded data removed]",
      "text/plain": [
       "<Figure size 432x288 with 1 Axes>"
      ]
     },
     "metadata": {
      "needs_background": "light"
     },
     "output_type": "display_data"
    }
   ],
   "source": [
    "plt.scatter(X, y, label=\"true\")\n",
    "plt.scatter(X, model(X), label=\"predicted\")\n",
    "plt.legend()"
   ]
  },
  {
   "cell_type": "code",
   "execution_count": 11,
   "metadata": {},
   "outputs": [],
   "source": [
    "def loss(y, y_pred):\n",
    "    return tf.reduce_mean(tf.square(y - y_pred))"
   ]
  },
  {
   "cell_type": "code",
   "execution_count": 12,
   "metadata": {},
   "outputs": [],
   "source": [
    "def train(model, X, y, lr=0.01):\n",
    "    with tf.GradientTape() as t:\n",
    "        current_loss = loss(y, model(X))\n",
    "\n",
    "    dW, db = t.gradient(current_loss, [model.W, model.b])\n",
    "    model.W.assign_sub(lr * dW)\n",
    "    model.b.assign_sub(lr * db)"
   ]
  },
  {
   "cell_type": "code",
   "execution_count": 13,
   "metadata": {},
   "outputs": [
    {
     "name": "stdout",
     "output_type": "stream",
     "text": [
      "Epoch 0: Loss: 264.9639587402344\n",
      "Epoch 1: Loss: 168.31654357910156\n",
      "Epoch 2: Loss: 107.0546875\n",
      "Epoch 3: Loss: 68.22273254394531\n",
      "Epoch 4: Loss: 43.608375549316406\n",
      "Epoch 5: Loss: 28.0061092376709\n",
      "Epoch 6: Loss: 18.116317749023438\n",
      "Epoch 7: Loss: 11.847485542297363\n",
      "Epoch 8: Loss: 7.873863697052002\n",
      "Epoch 9: Loss: 5.355105400085449\n",
      "Epoch 10: Loss: 3.7585439682006836\n",
      "Epoch 11: Loss: 2.746530771255493\n",
      "Epoch 12: Loss: 2.1050469875335693\n",
      "Epoch 13: Loss: 1.6984292268753052\n",
      "Epoch 14: Loss: 1.4406861066818237\n",
      "Epoch 15: Loss: 1.2773113250732422\n",
      "Epoch 16: Loss: 1.1737521886825562\n",
      "Epoch 17: Loss: 1.1081093549728394\n",
      "Epoch 18: Loss: 1.066500186920166\n",
      "Epoch 19: Loss: 1.0401252508163452\n"
     ]
    },
    {
     "data": {
      "image/png": "[encoded data removed]",
      "text/plain": [
       "<Figure size 432x288 with 1 Axes>"
      ]
     },
     "metadata": {
      "needs_background": "light"
     },
     "output_type": "display_data"
    }
   ],
   "source": [
    "model = Model()\n",
    "Ws, bs = [], []\n",
    "epochs = 20\n",
    "for epoch in range(epochs):\n",
    "    Ws.append(model.W.numpy()) # eager execution allows us to do this\n",
    "    bs.append(model.b.numpy())\n",
    "\n",
    "    current_loss = loss(y, model(X))\n",
    "\n",
    "    train(model, X, y, lr=0.1)\n",
    "    print(f\"Epoch {epoch}: Loss: {current_loss.numpy()}\")\n",
    "\n",
    "plt.plot(range(epochs), Ws, 'r', range(epochs), bs, 'b')\n",
    "plt.plot([TRUE_W] * epochs, 'r--', [TRUE_b] * epochs, 'b--')\n",
    "plt.legend(['W', 'b', 'true W', 'true b'])\n",
    "plt.show()"
   ]
  },
  {
   "cell_type": "code",
   "execution_count": 14,
   "metadata": {},
   "outputs": [
    {
     "data": {
      "text/plain": [
       "<matplotlib.legend.Legend at 0x1f2ab54ec88>"
      ]
     },
     "execution_count": 14,
     "metadata": {},
     "output_type": "execute_result"
    },
    {
     "data": {
      "image/png": "[encoded data removed]",
      "text/plain": [
       "<Figure size 432x288 with 1 Axes>"
      ]
     },
     "metadata": {
      "needs_background": "light"
     },
     "output_type": "display_data"
    }
   ],
   "source": [
    "plt.scatter(X, y, label=\"true\")\n",
    "plt.scatter(X, model(X), label=\"predicted\")\n",
    "plt.legend()"
   ]
  },
  {
   "cell_type": "markdown",
   "metadata": {},
   "source": [
    "## AutoGraph\n",
    "AutoGraph integra la facilidad de _eager execution_ con el poder de los grafos de TensorFlow. Se trata de un mini compilador que tansforma un suconjunto de estatutos de Python en grafos TensorFlow portables de alto desempeño. AutoGraph se implementa por medio del decorador __tf.function__.\n",
    "\n",
    "Guía de [tf.function](https://tensorflow.org/guide/function)\n"
   ]
  },
  {
   "cell_type": "code",
   "execution_count": 12,
   "metadata": {},
   "outputs": [],
   "source": [
    "@tf.function\n",
    "def simple_nn_layer(x,y):\n",
    "    return tf.nn.relu(tf.matmul(x,y))"
   ]
  },
  {
   "cell_type": "markdown",
   "metadata": {},
   "source": [
    "Para verificar el código transformado se emplea la siguente función:\n",
    "`tf.autograph_to_code([FUNCTION].python_function)`"
   ]
  },
  {
   "cell_type": "code",
   "execution_count": 14,
   "metadata": {},
   "outputs": [
    {
     "name": "stdout",
     "output_type": "stream",
     "text": [
      "def tf__simple_nn_layer(x, y):\n",
      "  do_return = False\n",
      "  retval_ = ag__.UndefinedReturnValue()\n",
      "  with ag__.FunctionScope('simple_nn_layer', 'simple_nn_layer_scope', ag__.ConversionOptions(recursive=True, user_requested=True, optional_features=(), internal_convert_user_code=True)) as simple_nn_layer_scope:\n",
      "    do_return = True\n",
      "    retval_ = simple_nn_layer_scope.mark_return_value(ag__.converted_call(tf.nn.relu, simple_nn_layer_scope.callopts, (ag__.converted_call(tf.matmul, simple_nn_layer_scope.callopts, (x, y), None, simple_nn_layer_scope),), None, simple_nn_layer_scope))\n",
      "  do_return,\n",
      "  return ag__.retval(retval_)\n",
      "\n"
     ]
    }
   ],
   "source": [
    "print(tf.autograph.to_code(simple_nn_layer.python_function))"
   ]
  },
  {
   "cell_type": "markdown",
   "metadata": {},
   "source": [
    "## tf.data\n",
    "## tf.keras\n",
    "## tf.function"
   ]
  },
  {
   "cell_type": "code",
   "execution_count": 1,
   "metadata": {},
   "outputs": [
    {
     "name": "stdout",
     "output_type": "stream",
     "text": [
      "Hello TensorFlow 2.0\r\n"
     ]
    }
   ],
   "source": [
    "#TF 2.0\n",
    "#Hello TensorFlow 2.0\n",
    "import tensorflow as tf\n",
    "msg2 = tf.constant('Hello TensorFlow 2.0')\n",
    "tf.print(msg2)"
   ]
  },
  {
   "cell_type": "markdown",
   "metadata": {},
   "source": [
    "# Keras\n",
    "## Introducción\n",
    "Keras es un API de alto nivel para redes neuronales, escrita en Python que es capaz de correr sobre TensorFlow, CNTK o Theano. Fue desarrollada con énfasis en habilitar experimentación rápida. Es recomendable el uso de Keras cuando se requiere de una libería de Deep Learning que:\n",
    "- Permita el desarrollo de prototipos fácil y rápido (por medio de facilidad de uso, modularidad y extensibilidad).\n",
    "- Soporte redes neuronales convolucionales (CNN) y redes neuronales recurrentes (RNN), así como combinaciones de ambas.\n",
    "- Corra de forma natural en CPUs y GPUs.\n",
    "\n",
    "[keras.io](https://keras.io) es el sitio principal del proyecto.\n",
    "Notas adicionales.\n"
   ]
  }
 ],
 "metadata": {
  "kernelspec": {
   "display_name": "Python 3",
   "language": "python",
   "name": "python3"
  },
  "language_info": {
   "codemirror_mode": {
    "name": "ipython",
    "version": 3
   },
   "file_extension": ".py",
   "mimetype": "text/x-python",
   "name": "python",
   "nbconvert_exporter": "python",
   "pygments_lexer": "ipython3",
   "version": "3.7.6"
  }
 },
 "nbformat": 4,
 "nbformat_minor": 4
}
