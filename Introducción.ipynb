{
 "cells": [
  {
   "cell_type": "markdown",
   "metadata": {},
   "source": [
    "# Plataformas Deep Learning"
   ]
  },
  {
   "cell_type": "markdown",
   "metadata": {},
   "source": [
    "## Temario\n",
    "- Introducción a Deep Learning\n",
    "- Herramientas para Deep Learning\n",
    "    - TensorFlow\n",
    "    - Keras"
   ]
  },
  {
   "cell_type": "markdown",
   "metadata": {},
   "source": [
    "# TensorFlow\n",
    "## Introducción\n",
    "TensorFlow es una plataforma integral de Machine Learning de código abierto. Cuenta con un ecosistema amplio y flexible de herramientas, librerías y comunidad que permite a los investigadores avanzar el estado del arte en ML. Habilita a los desarrolladores para crear y desplegar fácilmente aplicaciones habilitadas con ML.\n",
    "\n",
    "[tensorflow.org](https://tensorflow.org) es el sitio principal del proyecto.\n",
    "\n",
    "## Componentes del marco de trabajo\n",
    "TensorFlow tiene dos componentes:\n",
    "- Librería: para definir grafos computacionales.\n",
    "- Tiempo de ejecución: para ejecutar grafos en una diversas plataformas de hardware.\n",
    "\n",
    "[Arquitectura de TensorFlow](https://github.com/tensorflow/docs/blob/master/site/en/r1/guide/extend/architecture.md)\n",
    "\n",
    "### Grafos computacionales\n",
    "Los grafos computacionales son la representación de algoritmos de Machine Learning en TensorFlow, son un tipo de grafo dirigido en donde los nodos describen operaciones y los enlaces representan los datos (tensores) que fluyen entre las operaciones.\n",
    "\n",
    "Los grafos constan de:\n",
    "- Tensores: Descripción de un arreglo multidimensional. Tienen cardinalidad y un tipo de dato, pero no valores.\n",
    "- Operaciones: Tienen cero o más entradas y producen cero o más salidas. Pueden representar ecuaciones matemáticas, variables, constantes o directivas de control de flujo.\n",
    "- Variables: Todos los parámetros sujetos a entrenamiento de Machine Learning son _tf.Variables_. Una variable se define por su nombre, tipo, forma y procedimiento de inicialización. \n",
    "\n",
    "### Ventajas de los grafos computacionales\n",
    "- Calendarización conducida por dependencias. Las dependencias de datos dictan el orden de ejecución. Las operaciones que no dependen entre sí pueden calendarizarse para ejecución en paralelo.\n",
    "- Optimización de grafos. Tales como eliminación de grafos comunes.\n",
    "- Diferenciación automática. Facilita el cálculo de gradientes. Cuando se conocen los gradientes de la salida de cada operación con respecto a sus entradas directas, la regla de la cadena nos provee de gradientes para cualquier tensor con respecto a cualquier otro. Este proceso se conoce como autodiferenciación en modo inverso, y habilita el cómputo del gradiente de un nodo en el grafo con respecto a todos los demás en una sola pasada.\n",
    "\n",
    "## Tensores\n",
    "El cómputo en TensorFlow se expresa como un grafo de flujo de datos con estado. El nombre TensorFlow driva de las operaciones que las redes neuronales emplean en arreglos de datos multidimensionales, que se refieren como tensores.\n",
    "\n",
    "## Versiones de TensorFlow\n",
    "- 1.0.0 liberada en febrero de 2017\n",
    "- 2.0.0 disponible en septiembre de 2019\n",
    "\n"
   ]
  },
  {
   "cell_type": "markdown",
   "metadata": {},
   "source": [
    "# Keras"
   ]
  }
 ],
 "metadata": {
  "kernelspec": {
   "display_name": "Python 3",
   "language": "python",
   "name": "python3"
  },
  "language_info": {
   "codemirror_mode": {
    "name": "ipython",
    "version": 3
   },
   "file_extension": ".py",
   "mimetype": "text/x-python",
   "name": "python",
   "nbconvert_exporter": "python",
   "pygments_lexer": "ipython3",
   "version": "3.7.6"
  }
 },
 "nbformat": 4,
 "nbformat_minor": 4
}
