{
 "cells": [
  {
   "cell_type": "markdown",
   "metadata": {},
   "source": [
    "# Instituto Tecnológico y de Estudios Superiores de Monterrey\n",
    "# Diplomado en Transformación Digital y Analytics Santander\n",
    "# Especialidad Data Science – Módulo 2: Deep Learning"
   ]
  },
  {
   "cell_type": "markdown",
   "metadata": {},
   "source": [
    "## Temario\n",
    "- Introducción a Deep Learning\n",
    "- Herramientas para Deep Learning\n",
    "    - TensorFlow\n",
    "    - Keras\n",
    "- Perceptrón\n",
    "- Redes Neuronales\n"
   ]
  },
  {
   "cell_type": "markdown",
   "metadata": {},
   "source": [
    "## Log de instalación\n",
    "- Anaconda 2019.10 for Windows Installer with Python 3.7 version, 64 bit graphical installer, [https://www.anaconda.com/distribution/#download-section](https://www.anaconda.com/distribution/#download-section)\n",
    "<img src=\"images/anaconda-setup.png\" alt=\"Anaconda Setup\" title=\"Anaconda Setup\"/>\n",
    "\n",
    "    - Actualizar Anaconda por medio del siguiente comando en un prompt de Anaconda\n",
    "    \n",
    "    `conda update -n base -c defaults conda`\n",
    "- NLTK\n",
    "    - NLTK Data\n",
    " - TensorFlow\n",
    " - GitHub Desktop\n",
    " "
   ]
  },
  {
   "cell_type": "markdown",
   "metadata": {},
   "source": [
    "# Base de conocimiento\n",
    "## Anaconda\n",
    "[Guía de inicio](https://conda.io/projects/conda/en/latest/user-guide/getting-started.html)\n",
    "\n",
    "[Conda Cheat Sheet](https://docs.conda.io/projects/conda/en/4.6.0/_downloads/52a95608c49671267e40c689e0bc00ca/conda-cheatsheet.pdf)\n",
    "\n",
    "[Using Pip to install packages to Anaconda Environment](https://stackoverflow.com/questions/41060382/using-pip-to-install-packages-to-anaconda-environment)\n",
    "## Jupyter\n",
    "[Markdown for Jupyter cheat sheet](https://medium.com/ibm-data-science-experience/markdown-for-jupyter-notebooks-cheatsheet-386c05aeebed)"
   ]
  },
  {
   "cell_type": "markdown",
   "metadata": {},
   "source": [
    "## Ambiente Anaconda tf\n",
    "### Crear el ambiente tf\n",
    "Crear el ambiente desde un prompt de Anaconda:\n",
    "`conda create -n tf tensorflow`\n",
    "(tomar nota de la ubicación en el sistema de archivos del ambiente)\n",
    "\n",
    "Activar el ambiente\n",
    "`conda activate tf`\n",
    "\n",
    "Desactivar el ambiente\n",
    "`conda deactivate`\n",
    "\n",
    "Ejecutar el intérprete de Python y verificar la versión\n",
    "`python`\n",
    "<img src=\"images/Python%20version.png\" alt=\"Python version\" title=\"Python version\"/>\n",
    "\n",
    "### Instalar paquetes de Python\n",
    "Instalar los siguientes paquetes de Python por medio de un prompt de Anaconda y el comando conda install:\n",
    "\n",
    "`conda install --name tf {package name}`\n",
    "- matplotlib\n",
    "- pandas\n",
    "- seaborn\n",
    "\n",
    "Para el caso de la librería cv2 referida en algunos ejemplos de código es necesario instalar opencv\n",
    "`conda install -c conda-forge opencv`\n",
    "\n",
    "### Instalar Spyder\n",
    "Instalar Spyder desde Anaconda Navigator\n",
    "<img src=\"images/Spyder%20en%20tf.png\" alt=\"Spyder en tf\" title=\"Spyder en tf\"/>\n",
    "\n",
    "### Recursos del ambiente tf\n",
    "\n",
    "La ubicación del ambiente se reporta en la sección ## Package Plan ## generada por la salida de conda create, p.e.\n",
    "\n",
    "` ## Package Plan ##`\n",
    "\n",
    "`environment location: C:\\Users\\Marciano\\.conda\\envs\\tf`\n",
    "\n",
    "\n"
   ]
  },
  {
   "cell_type": "markdown",
   "metadata": {},
   "source": [
    "# TensorFlow\n",
    "## Introducción\n",
    "TensorFlow es una plataforma integral de Machine Learning de código abierto. Cuenta con un ecosistema amplio y flexible de herramientas, librerías y comunidad que permite a los investigadores avanzar el estado del arte en ML. Habilita a los desarrolladores para crear y desplegar fácilmente aplicaciones habilitadas con ML.\n",
    "\n",
    "[tensorflow.org](https://tensorflow.org) es el sitio principal del proyecto.\n",
    "\n",
    "## Componentes del marco de trabajo\n",
    "TensorFlow tiene dos componentes:\n",
    "- Librería: para definir grafos computacionales.\n",
    "- Tiempo de ejecución: para ejecutar grafos en una diversas plataformas de hardware.\n",
    "\n",
    "[Arquitectura de TensorFlow](https://github.com/tensorflow/docs/blob/master/site/en/r1/guide/extend/architecture.md)\n",
    "\n",
    "### Grafos computacionales\n",
    "Los grafos computacionales son la representación de algoritmos de Machine Learning en TensorFlow, son un tipo de grafo dirigido en donde los nodos describen operaciones y los enlaces representan los datos (tensores) que fluyen entre las operaciones.\n",
    "\n",
    "Los grafos constan de:\n",
    "- Tensores: Descripción de un arreglo multidimensional. Tienen cardinalidad y un tipo de dato, pero no valores.\n",
    "- Operaciones: Tienen cero o más entradas y producen cero o más salidas. Pueden representar ecuaciones matemáticas, variables, constantes o directivas de control de flujo.\n",
    "- Variables: Todos los parámetros sujetos a entrenamiento de Machine Learning son _tf.Variables_. Una variable se define por su nombre, tipo, forma y procedimiento de inicialización. \n",
    "\n",
    "### Ventajas de los grafos computacionales\n",
    "- Calendarización conducida por dependencias. Las dependencias de datos dictan el orden de ejecución. Las operaciones que no dependen entre sí pueden calendarizarse para ejecución en paralelo.\n",
    "- Optimización de grafos. Tales como eliminación de grafos comunes.\n",
    "- Diferenciación automática. Facilita el cálculo de gradientes. Cuando se conocen los gradientes de la salida de cada operación con respecto a sus entradas directas, la regla de la cadena nos provee de gradientes para cualquier tensor con respecto a cualquier otro. Este proceso se conoce como autodiferenciación en modo inverso, y habilita el cómputo del gradiente de un nodo en el grafo con respecto a todos los demás en una sola pasada.\n",
    "\n",
    "## Tensores\n",
    "El cómputo en TensorFlow se expresa como un grafo de flujo de datos con estado. El nombre TensorFlow driva de las operaciones que las redes neuronales emplean en arreglos de datos multidimensionales, que se refieren como tensores.\n",
    "\n",
    "## Versiones de TensorFlow\n",
    "- 1.0.0 liberada en febrero de 2017\n",
    "- 2.0.0 disponible en septiembre de 2019\n",
    "\n",
    "## Actualizar el código de TensorFlow 1.0 a 2.0\n",
    "El artículo [Migrate your TensorFlow 1 code to TensorFlow 1](https://www.tensorflow.org/guide/migrate) describe las siguientes estrategias:\n",
    "- Importar tensorflow en modo de compatibilidad con 1.0\n",
    "    - Implica no tomar ventaja de las diversas mejoras en TensorFlow 2.0\n",
    "- Ejecutar el script de actualización TF1.0 a TF2.0\n",
    "- Actualizar el código manualmente de acuerdo con los lineamientos del documento, que permiten contar con código más simple, con mejor desempeño y más fácil de mantener\n",
    "\n",
    "### Script de actualización de TensorFlow 1.0 a TensorFlow 2.0\n",
    "[Enlace a la documentación del script](https://www.tensorflow.org/guide/upgrade)\n",
    "\n",
    "El script se instala por default con TensorFlow 2.0 en la siguiente ruta: `[TF_ENVIRONMENT_PATH]\\Lib\\site-packages\\tensorflow_core\\tools\\compatibility`\n",
    "\n",
    "tf_upgrade_v2_main.py es el punto de entrada del script, su documentación se accede por medio de `python tf_upgrade_v2_main.py -h` \n"
   ]
  },
  {
   "cell_type": "markdown",
   "metadata": {},
   "source": [
    "# TensorFlow 1.0"
   ]
  },
  {
   "cell_type": "code",
   "execution_count": 1,
   "metadata": {},
   "outputs": [
    {
     "ename": "AttributeError",
     "evalue": "module 'tensorflow' has no attribute 'Session'",
     "output_type": "error",
     "traceback": [
      "\u001b[1;31m---------------------------------------------------------------------------\u001b[0m",
      "\u001b[1;31mAttributeError\u001b[0m                            Traceback (most recent call last)",
      "\u001b[1;32m<ipython-input-1-5e01e91eec82>\u001b[0m in \u001b[0;36m<module>\u001b[1;34m\u001b[0m\n\u001b[0;32m      2\u001b[0m \u001b[1;32mimport\u001b[0m \u001b[0mtensorflow\u001b[0m \u001b[1;32mas\u001b[0m \u001b[0mtf\u001b[0m\u001b[1;33m\u001b[0m\u001b[1;33m\u001b[0m\u001b[0m\n\u001b[0;32m      3\u001b[0m \u001b[0mmsg\u001b[0m \u001b[1;33m=\u001b[0m \u001b[0mtf\u001b[0m\u001b[1;33m.\u001b[0m\u001b[0mconstant\u001b[0m\u001b[1;33m(\u001b[0m\u001b[1;34m'Hello TensorFlow 1.0'\u001b[0m\u001b[1;33m)\u001b[0m\u001b[1;33m\u001b[0m\u001b[1;33m\u001b[0m\u001b[0m\n\u001b[1;32m----> 4\u001b[1;33m \u001b[0msess\u001b[0m \u001b[1;33m=\u001b[0m \u001b[0mtf\u001b[0m\u001b[1;33m.\u001b[0m\u001b[0mSession\u001b[0m\u001b[1;33m(\u001b[0m\u001b[1;33m)\u001b[0m\u001b[1;33m\u001b[0m\u001b[1;33m\u001b[0m\u001b[0m\n\u001b[0m\u001b[0;32m      5\u001b[0m \u001b[0mprint\u001b[0m\u001b[1;33m(\u001b[0m\u001b[0msess\u001b[0m\u001b[1;33m.\u001b[0m\u001b[0mrun\u001b[0m\u001b[1;33m(\u001b[0m\u001b[0mmsg\u001b[0m\u001b[1;33m)\u001b[0m\u001b[1;33m)\u001b[0m\u001b[1;33m\u001b[0m\u001b[1;33m\u001b[0m\u001b[0m\n",
      "\u001b[1;31mAttributeError\u001b[0m: module 'tensorflow' has no attribute 'Session'"
     ]
    }
   ],
   "source": [
    "#Hello TensorFlow 1.0\n",
    "import tensorflow as tf\n",
    "msg = tf.constant('Hello TensorFlow 1.0')\n",
    "sess = tf.Session()\n",
    "print(sess.run(msg))"
   ]
  },
  {
   "cell_type": "markdown",
   "metadata": {},
   "source": [
    "# TensorFlow 2.0"
   ]
  },
  {
   "cell_type": "code",
   "execution_count": 2,
   "metadata": {},
   "outputs": [
    {
     "name": "stdout",
     "output_type": "stream",
     "text": [
      "WARNING:tensorflow:From C:\\Users\\Marciano\\.conda\\envs\\tf\\lib\\site-packages\\tensorflow_core\\python\\compat\\v2_compat.py:65: disable_resource_variables (from tensorflow.python.ops.variable_scope) is deprecated and will be removed in a future version.\n",
      "Instructions for updating:\n",
      "non-resource variables are not supported in the long term\n",
      "b'Hello TensorFlow 1.0 with compatibility'\n"
     ]
    }
   ],
   "source": [
    "#Corriendo código de TensorFlow 1.0 en ambiente TensorFlow 2.0\n",
    "#Hello TensorFlow 1.0 code from TensorFlow 2.0 environment \n",
    "#Código de TensorFlow 1.0 en ambiente TensorFlow 2.0 con modo de compatibilidad v1\n",
    "import tensorflow.compat.v1 as tf1\n",
    "tf1.disable_v2_behavior()\n",
    "msg = tf1.constant('Hello TensorFlow 1.0 with compatibility')\n",
    "sess = tf1.Session()\n",
    "print(sess.run(msg))"
   ]
  },
  {
   "cell_type": "code",
   "execution_count": 1,
   "metadata": {},
   "outputs": [
    {
     "name": "stdout",
     "output_type": "stream",
     "text": [
      "Hello TensorFlow 2.0\r\n"
     ]
    }
   ],
   "source": [
    "#Hello TensorFlow 2.0\n",
    "import tensorflow as tf\n",
    "msg2 = tf.constant('Hello TensorFlow 2.0')\n",
    "tf.print(msg2)"
   ]
  },
  {
   "cell_type": "markdown",
   "metadata": {},
   "source": [
    "# Keras\n",
    "## Introducción\n",
    "Keras es un API de alto nivel para redes neuronales, escrita en Python que es capaz de correr sobre TensorFlow, CNTK o Theano. Fue desarrollada con énfasis en habilitar experimentación rápida. Es recomendable el uso de Keras cuando se requiere de una libería de Deep Learning que:\n",
    "- Permita el desarrollo de prototipos fácil y rápido (por medio de facilidad de uso, modularidad y extensibilidad).\n",
    "- Soporte redes neuronales convolucionales (CNN) y redes neuronales recurrentes (RNN), así como combinaciones de ambas.\n",
    "- Corra de forma natural en CPUs y GPUs.\n",
    "\n",
    "[keras.io](https://keras.io) es el sitio principal del proyecto.\n",
    "Notas adicionales.\n"
   ]
  }
 ],
 "metadata": {
  "kernelspec": {
   "display_name": "Python 3",
   "language": "python",
   "name": "python3"
  },
  "language_info": {
   "codemirror_mode": {
    "name": "ipython",
    "version": 3
   },
   "file_extension": ".py",
   "mimetype": "text/x-python",
   "name": "python",
   "nbconvert_exporter": "python",
   "pygments_lexer": "ipython3",
   "version": "3.7.6"
  }
 },
 "nbformat": 4,
 "nbformat_minor": 4
}
