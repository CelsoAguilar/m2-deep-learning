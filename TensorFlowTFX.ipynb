{
 "cells": [
  {
   "cell_type": "markdown",
   "metadata": {},
   "source": [
    "# Introducción a TensorFlow Extended (TFX)\n",
    "TensorFlow Extended (TFX) es una plataforma de machine learning de escala productiva provista por Google basada en TensorFlow. Provee de un marco de configuración y bibliotecas compartidas para integrar componentes comunes para definir, ejecutar y monitorear un sistema de machine learning.\n",
    "\n",
    "Componentes opcionales:\n",
    "- TensorFlow Serving: Sistema de otorgamiento de modelos de machine learning diseñado para entornos de producción. Facilita desplegar nuevos algoritmos y experimentos, manteniendo la misma arquitectura de servidor y APIs.\n",
    "![TFX Serving Architecture](images/tfx-serving-architecture.png)\n",
    "- TensorFlow JS: Librería de machine learning en JavaScript para entrenar y desplegar modelos de machine learning en el browser y con Node.js. Encapsula abstracciones, incluyendo objetos como Tensors y Optimizers. ml5.js es una librería que provee de acceso a algoritmos y modelos de machine learning con un API conciso y fácil de usar. Por medio de TensorFlow.js es posible: programar redes neuronales en JavaScript, convertir modelos pre entrenados en Python a TensorFlow.js, visualizar el comportamiento de modelos TensorFlow.js, preparar datos para procesamiento con TensorFlow.js.\n",
    "- TensorFlow Lite: Marco de trabajo para deep learning de código abierto orientado a inferencia en dispositivos. Provee de un conjunto de herramientas para que los desarrolladores ejecuten modelos TensorFlow en dispositivos móvil, empotrados e IoT. Permite inferencia machine learning en los dispositivos para mejorar el tamaño de los binarios y el desempeño. Consta de un intérpete que corre modelos especialmente optimizados en diversos tipos de hardware y un convertidor que transforma modelos TensorFlow para ser empleados por el intérprete y que puede introducir optimizaciones para mejorar el tamaño del binario y el desempeño.\n",
    "\n",
    "# Requisitos\n",
    "TFX requiere de TensorFlow versión 2.1, por lo que es necesario crear un ambiente para tal versión como está descrito en la sección de anexos.\n",
    "\n"
   ]
  },
  {
   "cell_type": "markdown",
   "metadata": {},
   "source": [
    "## Instalación de TFX en un ambiente TensorFlow < 2.1\n",
    "Al instalar TFX via pip\n",
    "\n",
    "`!pip install tensorflow`\n",
    "\n",
    "`!pip install tfx`\n",
    "\n",
    "en un ambiente TensorFlow 2.0 se generan los siguientes errores:"
   ]
  },
  {
   "cell_type": "markdown",
   "metadata": {},
   "source": [
    "```\n",
    "ERROR: tensorflow-serving-api 2.1.0 has requirement tensorflow~=2.1.0, but you'll have tensorflow 2.0.0 which is incompatible.\n",
    "ERROR: tensorflow-data-validation 0.21.2 has requirement avro-python3!=1.9.2.*,!=<2.0.0,>=1.8.1; python_version >= \"3.0\", but you'll have avro-python3 1.9.2.1 which is incompatible.\n",
    "ERROR: ml-metadata 0.21.1 has requirement tensorflow!=2.0.*,<3,>=1.15, but you'll have tensorflow 2.0.0 which is incompatible.\n",
    "ERROR: Cannot uninstall 'PyYAML'. It is a distutils installed project and thus we cannot accurately determine which files belong to it which would lead to only a partial uninstall.\n",
    "```    "
   ]
  },
  {
   "cell_type": "markdown",
   "metadata": {},
   "source": [
    "# Panorama general de los componentes de TFX\n",
    "Diagrama de flujo de datos de los componentes de TFX\n",
    "![TFX Components](images/tfx-components.png)\n",
    "## TFX Pipeline\n",
    "Define un flujo de datos a través de múltiples componentes, con la meta de implementar una tarea específica de machine learning (p.e. constuir y desplegar un modelo de regresión con datos específicos). Los componentes Pipeline se construyen con librerías TFX. El resultado de un pipeline es un objetivo de despliegue TFX o un servicio de una petición de inferencia.\n",
    "## Artifactos\n",
    "En un pipeline, un artifacto es una unidad de datos que se comunica entre componentes. Generalmente los componentes tienen al menos un artifacto de entrada y un artifacto de salida. Todos los artifactos requieren tener metadatos asociados que definen el tipo y propiedades del artifacto. Los artifactos tienen que tener un tipo de artifacto definido en el repositorio metadatos de Machine Learning. \n",
    "\n",
    "Ejemplos de tipos de artifactos:\n",
    "- Example: representa ejemplos materializados en TFRecord del buffer de protocolo `tensorflow::Example`, CSV, JSON o cualquier otro formato físico. Sin importar el formato físico, la forma en la que los Examples son empleados en un pipeline es exactamente la misma: se analizan para generar estadísticas, se validan contra un esquema esperado, se preprocesan en preparación para entrenamiento, se proveen a un Trainer para entrenar modelos, entre otras.\n",
    "- Model: Puede representar un modelo entrenado exportado a diversos formatos físicos tales como TensorFlow SavedModel, ONNX, PMML o PKL (varios tipos tipos objetos Python que representan modelos). En todo caso, los modelos siempre se evalúan, analizan y despliegan para servir en pipelines.\n",
    "\n",
    "El tipo de artifacto tiene un nombre único y una esquema de propiedades de sus instancias. TFX utiliza el tipo de artifacto como para determinar el uso del artifacto por componentes en el pipeline, no necesariamente para determinar el contenido físico del artifacto en el sistema de archivos."
   ]
  },
  {
   "cell_type": "markdown",
   "metadata": {},
   "source": [
    "\n"
   ]
  },
  {
   "cell_type": "code",
   "execution_count": 3,
   "metadata": {},
   "outputs": [],
   "source": [
    "import os\n",
    "import pprint\n",
    "import tempfile\n",
    "import urllib\n",
    "\n",
    "import absl\n",
    "import tensorflow as tf\n",
    "tf.get_logger().propagate = False\n",
    "pp = pprint.PrettyPrinter()\n",
    "\n",
    "import tfx\n"
   ]
  },
  {
   "cell_type": "code",
   "execution_count": 5,
   "metadata": {},
   "outputs": [
    {
     "ename": "ImportError",
     "evalue": "cannot import name 'record_based_tfxio' from 'tfx_bsl.tfxio' (C:\\Users\\Marciano\\.conda\\envs\\tf21\\lib\\site-packages\\tfx_bsl\\tfxio\\__init__.py)",
     "output_type": "error",
     "traceback": [
      "\u001b[1;31m---------------------------------------------------------------------------\u001b[0m",
      "\u001b[1;31mImportError\u001b[0m                               Traceback (most recent call last)",
      "\u001b[1;32m<ipython-input-5-9c832591e99a>\u001b[0m in \u001b[0;36m<module>\u001b[1;34m\u001b[0m\n\u001b[1;32m----> 1\u001b[1;33m \u001b[1;32mfrom\u001b[0m \u001b[0mtfx\u001b[0m\u001b[1;33m.\u001b[0m\u001b[0mcomponents\u001b[0m \u001b[1;32mimport\u001b[0m \u001b[0mCsvExampleGen\u001b[0m\u001b[1;33m\u001b[0m\u001b[1;33m\u001b[0m\u001b[0m\n\u001b[0m\u001b[0;32m      2\u001b[0m \u001b[1;32mfrom\u001b[0m \u001b[0mtfx\u001b[0m\u001b[1;33m.\u001b[0m\u001b[0mcomponents\u001b[0m \u001b[1;32mimport\u001b[0m \u001b[0mEvaluator\u001b[0m\u001b[1;33m\u001b[0m\u001b[1;33m\u001b[0m\u001b[0m\n\u001b[0;32m      3\u001b[0m \u001b[1;32mfrom\u001b[0m \u001b[0mtfx\u001b[0m\u001b[1;33m.\u001b[0m\u001b[0mcomponents\u001b[0m \u001b[1;32mimport\u001b[0m \u001b[0mExampleValidator\u001b[0m\u001b[1;33m\u001b[0m\u001b[1;33m\u001b[0m\u001b[0m\n\u001b[0;32m      4\u001b[0m \u001b[1;32mfrom\u001b[0m \u001b[0mtfx\u001b[0m\u001b[1;33m.\u001b[0m\u001b[0mcomponents\u001b[0m \u001b[1;32mimport\u001b[0m \u001b[0mModelValidator\u001b[0m\u001b[1;33m\u001b[0m\u001b[1;33m\u001b[0m\u001b[0m\n\u001b[0;32m      5\u001b[0m \u001b[1;32mfrom\u001b[0m \u001b[0mtfx\u001b[0m\u001b[1;33m.\u001b[0m\u001b[0mcomponents\u001b[0m \u001b[1;32mimport\u001b[0m \u001b[0mPusher\u001b[0m\u001b[1;33m\u001b[0m\u001b[1;33m\u001b[0m\u001b[0m\n",
      "\u001b[1;32m~\\.conda\\envs\\tf21\\lib\\site-packages\\tfx\\components\\__init__.py\u001b[0m in \u001b[0;36m<module>\u001b[1;34m\u001b[0m\n\u001b[0;32m     26\u001b[0m \u001b[1;32mfrom\u001b[0m \u001b[0mtfx\u001b[0m\u001b[1;33m.\u001b[0m\u001b[0mcomponents\u001b[0m\u001b[1;33m.\u001b[0m\u001b[0mexample_gen\u001b[0m\u001b[1;33m.\u001b[0m\u001b[0mcsv_example_gen\u001b[0m\u001b[1;33m.\u001b[0m\u001b[0mcomponent\u001b[0m \u001b[1;32mimport\u001b[0m \u001b[0mCsvExampleGen\u001b[0m\u001b[1;33m\u001b[0m\u001b[1;33m\u001b[0m\u001b[0m\n\u001b[0;32m     27\u001b[0m \u001b[1;32mfrom\u001b[0m \u001b[0mtfx\u001b[0m\u001b[1;33m.\u001b[0m\u001b[0mcomponents\u001b[0m\u001b[1;33m.\u001b[0m\u001b[0mexample_gen\u001b[0m\u001b[1;33m.\u001b[0m\u001b[0mimport_example_gen\u001b[0m\u001b[1;33m.\u001b[0m\u001b[0mcomponent\u001b[0m \u001b[1;32mimport\u001b[0m \u001b[0mImportExampleGen\u001b[0m\u001b[1;33m\u001b[0m\u001b[1;33m\u001b[0m\u001b[0m\n\u001b[1;32m---> 28\u001b[1;33m \u001b[1;32mfrom\u001b[0m \u001b[0mtfx\u001b[0m\u001b[1;33m.\u001b[0m\u001b[0mcomponents\u001b[0m\u001b[1;33m.\u001b[0m\u001b[0mexample_validator\u001b[0m\u001b[1;33m.\u001b[0m\u001b[0mcomponent\u001b[0m \u001b[1;32mimport\u001b[0m \u001b[0mExampleValidator\u001b[0m\u001b[1;33m\u001b[0m\u001b[1;33m\u001b[0m\u001b[0m\n\u001b[0m\u001b[0;32m     29\u001b[0m \u001b[1;32mfrom\u001b[0m \u001b[0mtfx\u001b[0m\u001b[1;33m.\u001b[0m\u001b[0mcomponents\u001b[0m\u001b[1;33m.\u001b[0m\u001b[0mmodel_validator\u001b[0m\u001b[1;33m.\u001b[0m\u001b[0mcomponent\u001b[0m \u001b[1;32mimport\u001b[0m \u001b[0mModelValidator\u001b[0m\u001b[1;33m\u001b[0m\u001b[1;33m\u001b[0m\u001b[0m\n\u001b[0;32m     30\u001b[0m \u001b[1;32mfrom\u001b[0m \u001b[0mtfx\u001b[0m\u001b[1;33m.\u001b[0m\u001b[0mcomponents\u001b[0m\u001b[1;33m.\u001b[0m\u001b[0mpusher\u001b[0m\u001b[1;33m.\u001b[0m\u001b[0mcomponent\u001b[0m \u001b[1;32mimport\u001b[0m \u001b[0mPusher\u001b[0m\u001b[1;33m\u001b[0m\u001b[1;33m\u001b[0m\u001b[0m\n",
      "\u001b[1;32m~\\.conda\\envs\\tf21\\lib\\site-packages\\tfx\\components\\example_validator\\component.py\u001b[0m in \u001b[0;36m<module>\u001b[1;34m\u001b[0m\n\u001b[0;32m     25\u001b[0m \u001b[1;32mfrom\u001b[0m \u001b[0mtfx\u001b[0m\u001b[1;33m.\u001b[0m\u001b[0mcomponents\u001b[0m\u001b[1;33m.\u001b[0m\u001b[0mbase\u001b[0m \u001b[1;32mimport\u001b[0m \u001b[0mbase_component\u001b[0m\u001b[1;33m\u001b[0m\u001b[1;33m\u001b[0m\u001b[0m\n\u001b[0;32m     26\u001b[0m \u001b[1;32mfrom\u001b[0m \u001b[0mtfx\u001b[0m\u001b[1;33m.\u001b[0m\u001b[0mcomponents\u001b[0m\u001b[1;33m.\u001b[0m\u001b[0mbase\u001b[0m \u001b[1;32mimport\u001b[0m \u001b[0mexecutor_spec\u001b[0m\u001b[1;33m\u001b[0m\u001b[1;33m\u001b[0m\u001b[0m\n\u001b[1;32m---> 27\u001b[1;33m \u001b[1;32mfrom\u001b[0m \u001b[0mtfx\u001b[0m\u001b[1;33m.\u001b[0m\u001b[0mcomponents\u001b[0m\u001b[1;33m.\u001b[0m\u001b[0mexample_validator\u001b[0m \u001b[1;32mimport\u001b[0m \u001b[0mexecutor\u001b[0m\u001b[1;33m\u001b[0m\u001b[1;33m\u001b[0m\u001b[0m\n\u001b[0m\u001b[0;32m     28\u001b[0m \u001b[1;32mfrom\u001b[0m \u001b[0mtfx\u001b[0m\u001b[1;33m.\u001b[0m\u001b[0mtypes\u001b[0m \u001b[1;32mimport\u001b[0m \u001b[0mstandard_artifacts\u001b[0m\u001b[1;33m\u001b[0m\u001b[1;33m\u001b[0m\u001b[0m\n\u001b[0;32m     29\u001b[0m \u001b[1;32mfrom\u001b[0m \u001b[0mtfx\u001b[0m\u001b[1;33m.\u001b[0m\u001b[0mtypes\u001b[0m\u001b[1;33m.\u001b[0m\u001b[0mstandard_component_specs\u001b[0m \u001b[1;32mimport\u001b[0m \u001b[0mExampleValidatorSpec\u001b[0m\u001b[1;33m\u001b[0m\u001b[1;33m\u001b[0m\u001b[0m\n",
      "\u001b[1;32m~\\.conda\\envs\\tf21\\lib\\site-packages\\tfx\\components\\example_validator\\executor.py\u001b[0m in \u001b[0;36m<module>\u001b[1;34m\u001b[0m\n\u001b[0;32m     23\u001b[0m \u001b[1;33m\u001b[0m\u001b[0m\n\u001b[0;32m     24\u001b[0m \u001b[1;32mimport\u001b[0m \u001b[0mabsl\u001b[0m\u001b[1;33m\u001b[0m\u001b[1;33m\u001b[0m\u001b[0m\n\u001b[1;32m---> 25\u001b[1;33m \u001b[1;32mimport\u001b[0m \u001b[0mtensorflow_data_validation\u001b[0m \u001b[1;32mas\u001b[0m \u001b[0mtfdv\u001b[0m\u001b[1;33m\u001b[0m\u001b[1;33m\u001b[0m\u001b[0m\n\u001b[0m\u001b[0;32m     26\u001b[0m \u001b[1;33m\u001b[0m\u001b[0m\n\u001b[0;32m     27\u001b[0m \u001b[1;32mfrom\u001b[0m \u001b[0mtfx\u001b[0m \u001b[1;32mimport\u001b[0m \u001b[0mtypes\u001b[0m\u001b[1;33m\u001b[0m\u001b[1;33m\u001b[0m\u001b[0m\n",
      "\u001b[1;32m~\\.conda\\envs\\tf21\\lib\\site-packages\\tensorflow_data_validation\\__init__.py\u001b[0m in \u001b[0;36m<module>\u001b[1;34m\u001b[0m\n\u001b[0;32m     31\u001b[0m \u001b[1;33m\u001b[0m\u001b[0m\n\u001b[0;32m     32\u001b[0m \u001b[1;31m# Import coders.\u001b[0m\u001b[1;33m\u001b[0m\u001b[1;33m\u001b[0m\u001b[1;33m\u001b[0m\u001b[0m\n\u001b[1;32m---> 33\u001b[1;33m \u001b[1;32mfrom\u001b[0m \u001b[0mtensorflow_data_validation\u001b[0m\u001b[1;33m.\u001b[0m\u001b[0mcoders\u001b[0m\u001b[1;33m.\u001b[0m\u001b[0mcsv_decoder\u001b[0m \u001b[1;32mimport\u001b[0m \u001b[0mDecodeCSV\u001b[0m\u001b[1;33m\u001b[0m\u001b[1;33m\u001b[0m\u001b[0m\n\u001b[0m\u001b[0;32m     34\u001b[0m \u001b[1;32mfrom\u001b[0m \u001b[0mtensorflow_data_validation\u001b[0m\u001b[1;33m.\u001b[0m\u001b[0mcoders\u001b[0m\u001b[1;33m.\u001b[0m\u001b[0mtf_example_decoder\u001b[0m \u001b[1;32mimport\u001b[0m \u001b[0mDecodeTFExample\u001b[0m\u001b[1;33m\u001b[0m\u001b[1;33m\u001b[0m\u001b[0m\n\u001b[0;32m     35\u001b[0m \u001b[1;33m\u001b[0m\u001b[0m\n",
      "\u001b[1;32m~\\.conda\\envs\\tf21\\lib\\site-packages\\tensorflow_data_validation\\coders\\csv_decoder.py\u001b[0m in \u001b[0;36m<module>\u001b[1;34m\u001b[0m\n\u001b[0;32m     24\u001b[0m \u001b[1;32mfrom\u001b[0m \u001b[0mtensorflow_data_validation\u001b[0m \u001b[1;32mimport\u001b[0m \u001b[0mtypes\u001b[0m\u001b[1;33m\u001b[0m\u001b[1;33m\u001b[0m\u001b[0m\n\u001b[0;32m     25\u001b[0m \u001b[1;32mfrom\u001b[0m \u001b[0mtfx_bsl\u001b[0m\u001b[1;33m.\u001b[0m\u001b[0mcoders\u001b[0m \u001b[1;32mimport\u001b[0m \u001b[0mcsv_decoder\u001b[0m \u001b[1;32mas\u001b[0m \u001b[0mcsv_decoder\u001b[0m\u001b[1;33m\u001b[0m\u001b[1;33m\u001b[0m\u001b[0m\n\u001b[1;32m---> 26\u001b[1;33m \u001b[1;32mfrom\u001b[0m \u001b[0mtfx_bsl\u001b[0m\u001b[1;33m.\u001b[0m\u001b[0mtfxio\u001b[0m \u001b[1;32mimport\u001b[0m \u001b[0mrecord_based_tfxio\u001b[0m\u001b[1;33m\u001b[0m\u001b[1;33m\u001b[0m\u001b[0m\n\u001b[0m\u001b[0;32m     27\u001b[0m \u001b[1;32mfrom\u001b[0m \u001b[0mtyping\u001b[0m \u001b[1;32mimport\u001b[0m \u001b[0mList\u001b[0m\u001b[1;33m,\u001b[0m \u001b[0mIterable\u001b[0m\u001b[1;33m,\u001b[0m \u001b[0mOptional\u001b[0m\u001b[1;33m,\u001b[0m \u001b[0mText\u001b[0m\u001b[1;33m\u001b[0m\u001b[1;33m\u001b[0m\u001b[0m\n\u001b[0;32m     28\u001b[0m \u001b[1;33m\u001b[0m\u001b[0m\n",
      "\u001b[1;31mImportError\u001b[0m: cannot import name 'record_based_tfxio' from 'tfx_bsl.tfxio' (C:\\Users\\Marciano\\.conda\\envs\\tf21\\lib\\site-packages\\tfx_bsl\\tfxio\\__init__.py)"
     ]
    }
   ],
   "source": [
    "from tfx.components import CsvExampleGen\n",
    "from tfx.components import Evaluator\n",
    "from tfx.components import ExampleValidator\n",
    "from tfx.components import ModelValidator\n",
    "from tfx.components import Pusher\n",
    "from tfx.components import SchemaGen\n",
    "from tfx.components import StatisticsGen\n",
    "from tfx.components import Trainer\n",
    "from tfx.components import Transform\n",
    "from tfx.orchestration import metadata\n",
    "from tfx.orchestration import pipeline\n",
    "from tfx.orchestration.experimental.interactive.interactive_context import InteractiveContext\n",
    "from tfx.proto import evaluator_pb2\n",
    "from tfx.proto import pusher_pb2\n",
    "from tfx.proto import trainer_pb2\n",
    "from tfx.proto.evaluator_pb2 import SingleSlicingSpec\n",
    "from tfx.utils.dsl_utils import external_input\n",
    "\n",
    "%load_ext tfx.orchestration.experimental.interactive.notebook_extensions.skip"
   ]
  },
  {
   "cell_type": "code",
   "execution_count": null,
   "metadata": {},
   "outputs": [],
   "source": [
    "Verificar las versiones de las bibliotecas."
   ]
  },
  {
   "cell_type": "code",
   "execution_count": 4,
   "metadata": {},
   "outputs": [
    {
     "name": "stdout",
     "output_type": "stream",
     "text": [
      "TensorFlow version: 2.1.0\n",
      "TFX version: 0.21.0\n"
     ]
    }
   ],
   "source": [
    "print('TensorFlow version: {}'.format(tf.__version__))\n",
    "print('TFX version: {}'.format(tfx.__version__))"
   ]
  },
  {
   "cell_type": "markdown",
   "metadata": {},
   "source": [
    "Configurar las rutas del pipeline."
   ]
  },
  {
   "cell_type": "markdown",
   "metadata": {},
   "source": [
    "Descargar datos de ejemplo"
   ]
  },
  {
   "cell_type": "code",
   "execution_count": null,
   "metadata": {},
   "outputs": [],
   "source": []
  },
  {
   "cell_type": "code",
   "execution_count": 6,
   "metadata": {},
   "outputs": [],
   "source": [
    "# This is the root directory for your TFX pip package installation.\n",
    "_tfx_root = tfx.__path__[0]\n",
    "\n",
    "# This is the directory containing the TFX Chicago Taxi Pipeline example.\n",
    "_taxi_root = os.path.join(_tfx_root, 'examples/chicago_taxi_pipeline')\n",
    "\n",
    "# This is the path where your model will be pushed for serving.\n",
    "_serving_model_dir = os.path.join(\n",
    "    tempfile.mkdtemp(), 'serving_model/taxi_simple')\n",
    "\n",
    "# Set up logging.\n",
    "absl.logging.set_verbosity(absl.logging.INFO)"
   ]
  },
  {
   "cell_type": "code",
   "execution_count": 7,
   "metadata": {},
   "outputs": [
    {
     "data": {
      "text/plain": [
       "('C:\\\\Users\\\\Marciano\\\\AppData\\\\Local\\\\Temp\\\\tfx-datam08aga56\\\\data.csv',\n",
       " <http.client.HTTPMessage at 0x203198c15c8>)"
      ]
     },
     "execution_count": 7,
     "metadata": {},
     "output_type": "execute_result"
    }
   ],
   "source": [
    "_data_root = tempfile.mkdtemp(prefix='tfx-data')\n",
    "DATA_PATH = 'https://raw.githubusercontent.com/tensorflow/tfx/master/tfx/examples/chicago_taxi_pipeline/data/simple/data.csv'\n",
    "_data_filepath = os.path.join(_data_root, \"data.csv\")\n",
    "urllib.request.urlretrieve(DATA_PATH, _data_filepath)"
   ]
  },
  {
   "cell_type": "code",
   "execution_count": 8,
   "metadata": {},
   "outputs": [
    {
     "ename": "SyntaxError",
     "evalue": "invalid syntax (<ipython-input-8-3c6c1d7d67a5>, line 1)",
     "output_type": "error",
     "traceback": [
      "\u001b[1;36m  File \u001b[1;32m\"<ipython-input-8-3c6c1d7d67a5>\"\u001b[1;36m, line \u001b[1;32m1\u001b[0m\n\u001b[1;33m    head {_data_filepath}\u001b[0m\n\u001b[1;37m         ^\u001b[0m\n\u001b[1;31mSyntaxError\u001b[0m\u001b[1;31m:\u001b[0m invalid syntax\n"
     ]
    }
   ],
   "source": [
    "head {_data_filepath}"
   ]
  },
  {
   "cell_type": "code",
   "execution_count": 9,
   "metadata": {},
   "outputs": [
    {
     "ename": "NameError",
     "evalue": "name 'InteractiveContext' is not defined",
     "output_type": "error",
     "traceback": [
      "\u001b[1;31m---------------------------------------------------------------------------\u001b[0m",
      "\u001b[1;31mNameError\u001b[0m                                 Traceback (most recent call last)",
      "\u001b[1;32m<ipython-input-9-cdfa85cb1a6a>\u001b[0m in \u001b[0;36m<module>\u001b[1;34m\u001b[0m\n\u001b[0;32m      5\u001b[0m \u001b[1;31m# InteractiveContext. Calls to InteractiveContext are no-ops outside of the\u001b[0m\u001b[1;33m\u001b[0m\u001b[1;33m\u001b[0m\u001b[1;33m\u001b[0m\u001b[0m\n\u001b[0;32m      6\u001b[0m \u001b[1;31m# notebook.\u001b[0m\u001b[1;33m\u001b[0m\u001b[1;33m\u001b[0m\u001b[1;33m\u001b[0m\u001b[0m\n\u001b[1;32m----> 7\u001b[1;33m \u001b[0mcontext\u001b[0m \u001b[1;33m=\u001b[0m \u001b[0mInteractiveContext\u001b[0m\u001b[1;33m(\u001b[0m\u001b[1;33m)\u001b[0m\u001b[1;33m\u001b[0m\u001b[1;33m\u001b[0m\u001b[0m\n\u001b[0m",
      "\u001b[1;31mNameError\u001b[0m: name 'InteractiveContext' is not defined"
     ]
    }
   ],
   "source": [
    "# Here, we create an InteractiveContext using default parameters. This will\n",
    "# use a temporary directory with an ephemeral ML Metadata database instance.\n",
    "# To use your own pipeline root or database, the optional properties\n",
    "# `pipeline_root` and `metadata_connection_config` may be passed to\n",
    "# InteractiveContext. Calls to InteractiveContext are no-ops outside of the\n",
    "# notebook.\n",
    "context = InteractiveContext()"
   ]
  }
 ],
 "metadata": {
  "kernelspec": {
   "display_name": "Python 3",
   "language": "python",
   "name": "python3"
  },
  "language_info": {
   "codemirror_mode": {
    "name": "ipython",
    "version": 3
   },
   "file_extension": ".py",
   "mimetype": "text/x-python",
   "name": "python",
   "nbconvert_exporter": "python",
   "pygments_lexer": "ipython3",
   "version": "3.7.6"
  }
 },
 "nbformat": 4,
 "nbformat_minor": 4
}
