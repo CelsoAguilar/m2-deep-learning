{
 "cells": [
  {
   "cell_type": "markdown",
   "metadata": {},
   "source": [
    "# Anexos"
   ]
  },
  {
   "cell_type": "markdown",
   "metadata": {},
   "source": [
    "## Bitácora de instalación\n",
    "- Anaconda 2019.10 for Windows Installer with Python 3.7 version, 64 bit graphical installer, [https://www.anaconda.com/distribution/#download-section](https://www.anaconda.com/distribution/#download-section)\n",
    "<img src=\"images/anaconda-setup.png\" alt=\"Anaconda Setup\" title=\"Anaconda Setup\"/>\n",
    "\n",
    "    - Actualizar Anaconda por medio del siguiente comando en un prompt de Anaconda\n",
    "    \n",
    "    `conda update -n base -c defaults conda`\n",
    "- NLTK\n",
    "    - NLTK Data\n",
    " - TensorFlow\n",
    " - GitHub Desktop\n",
    " "
   ]
  },
  {
   "cell_type": "markdown",
   "metadata": {},
   "source": [
    "## Ambiente Anaconda tf\n",
    "### Crear el ambiente tf\n",
    "Crear el ambiente desde un prompt de Anaconda:\n",
    "`conda create -n tf tensorflow`\n",
    "(tomar nota de la ubicación en el sistema de archivos del ambiente)\n",
    "\n",
    "Activar el ambiente\n",
    "`conda activate tf`\n",
    "\n",
    "Desactivar el ambiente\n",
    "`conda deactivate`\n",
    "\n",
    "Ejecutar el intérprete de Python y verificar la versión\n",
    "`python`\n",
    "<img src=\"images/Python%20version.png\" alt=\"Python version\" title=\"Python version\"/>\n",
    "\n",
    "### Instalar paquetes de Python\n",
    "Instalar los siguientes paquetes de Python por medio de un prompt de Anaconda y el comando conda install:\n",
    "\n",
    "`conda install --name tf {package name}`\n",
    "- matplotlib\n",
    "- pandas\n",
    "- seaborn\n",
    "\n",
    "Para el caso de la librería cv2 referida en algunos ejemplos de código es necesario instalar opencv\n",
    "`conda install -c conda-forge opencv`\n",
    "\n",
    "### Instalar Spyder\n",
    "Instalar Spyder desde Anaconda Navigator\n",
    "<img src=\"images/Spyder%20en%20tf.png\" alt=\"Spyder en tf\" title=\"Spyder en tf\"/>\n",
    "\n",
    "### Recursos del ambiente tf\n",
    "\n",
    "La ubicación del ambiente se reporta en la sección ## Package Plan ## generada por la salida de conda create, p.e.\n",
    "\n",
    "` ## Package Plan ##`\n",
    "\n",
    "`environment location: C:\\Users\\Marciano\\.conda\\envs\\tf`\n",
    "\n",
    "\n"
   ]
  },
  {
   "cell_type": "markdown",
   "metadata": {},
   "source": [
    "# Base de conocimiento\n",
    "## Anaconda\n",
    "[Guía de inicio](https://conda.io/projects/conda/en/latest/user-guide/getting-started.html)\n",
    "\n",
    "[Conda Cheat Sheet](https://docs.conda.io/projects/conda/en/4.6.0/_downloads/52a95608c49671267e40c689e0bc00ca/conda-cheatsheet.pdf)\n",
    "\n",
    "[Using Pip to install packages to Anaconda Environment](https://stackoverflow.com/questions/41060382/using-pip-to-install-packages-to-anaconda-environment)\n",
    "## Jupyter\n",
    "[Markdown for Jupyter cheat sheet](https://medium.com/ibm-data-science-experience/markdown-for-jupyter-notebooks-cheatsheet-386c05aeebed)\n",
    "## Python\n",
    "[Documentación Python 3.7(.6)](https://docs.python.org/3.7/)\n",
    "## NumPy\n",
    "Paquete fundamental para cómputo científico en Python, contiene arreglo de múltiples dimensiones, funciones de broadcasting, capacidades de álgebra lineal, manejo de números aleatorios y más.\n",
    "\n",
    "[NumPy.org](https://numpy.org/)"
   ]
  }
 ],
 "metadata": {
  "kernelspec": {
   "display_name": "Python 3",
   "language": "python",
   "name": "python3"
  },
  "language_info": {
   "codemirror_mode": {
    "name": "ipython",
    "version": 3
   },
   "file_extension": ".py",
   "mimetype": "text/x-python",
   "name": "python",
   "nbconvert_exporter": "python",
   "pygments_lexer": "ipython3",
   "version": "3.7.6"
  }
 },
 "nbformat": 4,
 "nbformat_minor": 4
}
